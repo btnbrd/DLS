{
  "cells": [
    {
      "cell_type": "markdown",
      "source": [
        "#Preparation"
      ],
      "metadata": {
        "id": "RIl5JeZDJjYH"
      }
    },
    {
      "cell_type": "markdown",
      "metadata": {
        "id": "QyRnPj1bD1po"
      },
      "source": [
        "\n",
        "## Import"
      ]
    },
    {
      "cell_type": "code",
      "execution_count": null,
      "metadata": {
        "id": "CKiSOvexVqFL"
      },
      "outputs": [],
      "source": [
        "import os\n",
        "from torch.utils.data import DataLoader\n",
        "from torchvision.datasets import ImageFolder\n",
        "import torchvision.transforms.v2 as tt\n",
        "from torch.utils.data import Dataset, DataLoader\n",
        "import torch\n",
        "import torch.nn as nn\n",
        "import gc\n",
        "import cv2\n",
        "from tqdm.notebook import tqdm\n",
        "from torchvision.utils import save_image\n",
        "from torchvision.utils import make_grid\n",
        "import numpy as np\n",
        "import matplotlib.pyplot as plt\n",
        "import seaborn as sns\n",
        "from tqdm import tqdm\n",
        "from pathlib import Path\n",
        "from PIL import Image\n",
        "%matplotlib inline\n",
        "from sklearn.model_selection import train_test_split\n",
        "from IPython.display import clear_output\n",
        "import pandas as pd\n",
        "from torchvision import models\n",
        "from torch.nn import functional as F\n",
        "\n",
        "sns.set(style='darkgrid', font_scale=1.2)\n",
        "BATCH_SIZE = 32\n",
        "RESCALE_SIZE = 224"
      ]
    },
    {
      "cell_type": "code",
      "execution_count": null,
      "metadata": {
        "id": "zXvfTTwpD37P",
        "colab": {
          "base_uri": "https://localhost:8080/"
        },
        "outputId": "3d8931ed-82c9-49f4-91a6-5d1ec4353d45"
      },
      "outputs": [
        {
          "output_type": "stream",
          "name": "stdout",
          "text": [
            "CUDA is available!  Training on GPU ...\n"
          ]
        }
      ],
      "source": [
        "train_on_gpu = torch.cuda.is_available()\n",
        "\n",
        "if not train_on_gpu:\n",
        "    print('CUDA is not available.  Training on CPU ...')\n",
        "    DEVICE = 'cpu'\n",
        "else:\n",
        "    print('CUDA is available!  Training on GPU ...')\n",
        "    DEVICE = 'cuda'"
      ]
    },
    {
      "cell_type": "code",
      "execution_count": null,
      "metadata": {
        "id": "bkcRaKsJT6QQ",
        "colab": {
          "base_uri": "https://localhost:8080/"
        },
        "outputId": "038fe4cf-532a-4b4b-a941-4ed7135070ac"
      },
      "outputs": [
        {
          "output_type": "stream",
          "name": "stdout",
          "text": [
            "Mounted at /content/drive\n"
          ]
        }
      ],
      "source": [
        "from google.colab import drive\n",
        "drive.mount('/content/drive')\n"
      ]
    },
    {
      "cell_type": "code",
      "execution_count": null,
      "metadata": {
        "id": "K6fnMKW1hgLF"
      },
      "outputs": [],
      "source": [
        "from torchvision.models import ResNet18_Weights, resnet18, efficientnet_b3, EfficientNet_B3_Weights, ResNet34_Weights, resnet34\n",
        "res_transform = ResNet18_Weights.IMAGENET1K_V1.transforms\n",
        "res_34_transform = ResNet34_Weights.IMAGENET1K_V1.transforms\n"
      ]
    },
    {
      "cell_type": "code",
      "execution_count": null,
      "metadata": {
        "id": "6qvQCDXIHKBP"
      },
      "outputs": [],
      "source": [
        "def evaluate(model, loader):\n",
        "    matched = 0\n",
        "    all = 0\n",
        "    model.eval()\n",
        "    for i, l in loader:\n",
        "        pred = model(i.to(DEVICE)).detach().to('cpu').argmax(dim=1)\n",
        "        matched += (pred == l).sum()\n",
        "        all += len(l)\n",
        "\n",
        "    return (matched/all).item()"
      ]
    },
    {
      "cell_type": "code",
      "execution_count": null,
      "metadata": {
        "id": "tX7W_3yoURQ9"
      },
      "outputs": [],
      "source": [
        "def show_im(im):\n",
        "    im = im.detach().to('cpu').permute(1, 2, 0).numpy()\n",
        "    # print(im.shape)\n",
        "    plt.axis('off')\n",
        "    plt.imshow(im)"
      ]
    },
    {
      "cell_type": "markdown",
      "metadata": {
        "id": "39LwXTyd7h1h"
      },
      "source": [
        "## Load data"
      ]
    },
    {
      "cell_type": "code",
      "execution_count": null,
      "metadata": {
        "id": "-Z_s3qxSUI_s"
      },
      "outputs": [],
      "source": [
        "\n",
        "!unzip -q \"/content/drive/MyDrive/celebA_train_500.zip\""
      ]
    },
    {
      "cell_type": "code",
      "source": [
        "\n",
        "!unzip -q \"/content/drive/MyDrive/celebA_ir.zip\"\n",
        "\n"
      ],
      "metadata": {
        "id": "IheCjVx6KI63"
      },
      "execution_count": null,
      "outputs": []
    },
    {
      "cell_type": "code",
      "execution_count": null,
      "metadata": {
        "id": "KaU49xAMZ7N_",
        "colab": {
          "base_uri": "https://localhost:8080/"
        },
        "outputId": "6a23e4ba-04b2-41bf-f273-91fe30f058b9"
      },
      "outputs": [
        {
          "output_type": "execute_result",
          "data": {
            "text/plain": [
              "(8544, 1878, 1589)"
            ]
          },
          "metadata": {},
          "execution_count": 9
        }
      ],
      "source": [
        "\n",
        "anno = pd.read_csv('./celebA_train_500/celebA_anno.txt', sep=\" \", header=None, names=['name', 'label'])\n",
        "train_test_df = pd.read_csv('./celebA_train_500/celebA_train_split.txt', sep=\" \", header=None, names=['name', 'group'])\n",
        "train_test_df.groupby(by='group').count()\n",
        "train_df, val_df, test_df = train_test_df[train_test_df.group == 0], train_test_df[train_test_df.group == 1], train_test_df[train_test_df.group == 2]\n",
        "len(train_df), len(val_df), len(test_df)"
      ]
    },
    {
      "cell_type": "code",
      "execution_count": null,
      "metadata": {
        "id": "i6jWtUDUVnFf",
        "colab": {
          "base_uri": "https://localhost:8080/"
        },
        "outputId": "b2f80f21-336f-4903-8ef4-d69da58fc459"
      },
      "outputs": [
        {
          "output_type": "execute_result",
          "data": {
            "text/plain": [
              "PosixPath('celebA_train_500/celebA_imgs')"
            ]
          },
          "metadata": {},
          "execution_count": 10
        }
      ],
      "source": [
        "\n",
        "path = Path('./celebA_train_500/celebA_imgs')\n",
        "path"
      ]
    },
    {
      "cell_type": "code",
      "execution_count": null,
      "metadata": {
        "id": "jE7efKvkV9dD"
      },
      "outputs": [],
      "source": [
        "files = (list(path.rglob('*.jpg')))\n",
        "files_name = list(map(lambda x: str(x).split('/')[-1], files))\n",
        "df = pd.DataFrame({'name':files_name, 'file': files})\n",
        "data = pd.merge(df, anno, on='name')\n",
        "data\n",
        "\n",
        "\n",
        "train_data = pd.merge(data, train_df, on='name')\n",
        "test_data = pd.merge(data, test_df, on='name')\n",
        "val_data = pd.merge(data, val_df, on='name')\n",
        "\n"
      ]
    },
    {
      "cell_type": "markdown",
      "metadata": {
        "id": "NYk6hmWT7nyf"
      },
      "source": [
        "##Dataset"
      ]
    },
    {
      "cell_type": "code",
      "execution_count": null,
      "metadata": {
        "id": "T8HRGM0NM0oQ"
      },
      "outputs": [],
      "source": [
        "class FaceDataset(Dataset):\n",
        "    \"\"\"Face Landmarks dataset.\"\"\"\n",
        "\n",
        "    def __init__(self, dataframe, mode='test', transform=None):\n",
        "        \"\"\"\n",
        "        Args:\n",
        "            csv_file (string): Path to the csv file with annotations.\n",
        "            root_dir (string): Directory with all the images.\n",
        "            transform (callable, optional): Optional transform to be applied\n",
        "                on a sample.\n",
        "        \"\"\"\n",
        "        self.data = dataframe\n",
        "        self.transform = transform\n",
        "\n",
        "\n",
        "    def __len__(self):\n",
        "        return len(self.data)\n",
        "\n",
        "    @classmethod\n",
        "    def load_sample(self, file):\n",
        "        image = Image.open(file)\n",
        "        image.load()\n",
        "        return image\n",
        "\n",
        "    @classmethod\n",
        "    def prepare_sample(self, image):\n",
        "        image = np.array(image)\n",
        "        image = Image.fromarray(image[77:-41, 45:-50])\n",
        "        # print(image.shape)\n",
        "        image = image.resize((RESCALE_SIZE, RESCALE_SIZE))\n",
        "\n",
        "        return image\n",
        "\n",
        "    def __getitem__(self, idx):\n",
        "        if torch.is_tensor(idx):\n",
        "            idx = idx.tolist()\n",
        "        file_name = self.data.iloc[idx, 1]\n",
        "        label = self.data.iloc[idx, 2]\n",
        "        im = self.load_sample(file_name)\n",
        "        im = self.prepare_sample(im)\n",
        "        if self.transform:\n",
        "            im = self.transform(im)\n",
        "\n",
        "        # im = torch.FloatTensor(im).permute(2, 0, 1)\n",
        "\n",
        "        return im, label"
      ]
    },
    {
      "cell_type": "code",
      "execution_count": null,
      "metadata": {
        "id": "rkBOfnl2xaDq"
      },
      "outputs": [],
      "source": [
        "# train_transform = tt.Compose([\n",
        "#     resTransform(),\n",
        "#     tt.RandomHorizontalFlip(p=0.5),\n",
        "# ])\n",
        "\n",
        "train_transform = tt.Compose([\n",
        "    # EfficientNet_B3_Weights.IMAGENET1K_V1.transforms(),\n",
        "    res_transform(),\n",
        "    tt.RandomHorizontalFlip(p=0.5),\n",
        "    # tt.RandomPerspective(distortion_scale=0.5, p=0.3,)\n",
        "])\n",
        "test_transform = res_transform()"
      ]
    },
    {
      "cell_type": "code",
      "execution_count": null,
      "metadata": {
        "id": "MhlLpbr1OFPb",
        "colab": {
          "base_uri": "https://localhost:8080/"
        },
        "outputId": "c7287f9f-e56b-42cc-9784-ae9ffd1e916b"
      },
      "outputs": [
        {
          "output_type": "execute_result",
          "data": {
            "text/plain": [
              "(8544, 1878, 1589)"
            ]
          },
          "metadata": {},
          "execution_count": 14
        }
      ],
      "source": [
        "\n",
        "train_dataset = FaceDataset(train_data, mode='train', transform=train_transform)\n",
        "val_dataset = FaceDataset(val_data, mode='val', transform=test_transform)\n",
        "test_dataset = FaceDataset(test_data, mode='test', transform=test_transform)\n",
        "\n",
        "train_loader = DataLoader(train_dataset, batch_size=BATCH_SIZE, shuffle=True)\n",
        "val_loader = DataLoader(val_dataset, batch_size=BATCH_SIZE, shuffle=True)\n",
        "test_loader = DataLoader(test_dataset, batch_size=BATCH_SIZE, shuffle=True)\n",
        "len(train_data), len(val_data), len(test_data)\n"
      ]
    },
    {
      "cell_type": "code",
      "execution_count": null,
      "metadata": {
        "id": "Ie_vRnER-gQ3",
        "colab": {
          "base_uri": "https://localhost:8080/",
          "height": 488
        },
        "outputId": "2743ebd2-0937-4bab-a20f-d5b6cde9c40e"
      },
      "outputs": [
        {
          "output_type": "stream",
          "name": "stderr",
          "text": [
            "WARNING:matplotlib.image:Clipping input data to the valid range for imshow with RGB data ([0..1] for floats or [0..255] for integers).\n",
            "WARNING:matplotlib.image:Clipping input data to the valid range for imshow with RGB data ([0..1] for floats or [0..255] for integers).\n",
            "WARNING:matplotlib.image:Clipping input data to the valid range for imshow with RGB data ([0..1] for floats or [0..255] for integers).\n",
            "WARNING:matplotlib.image:Clipping input data to the valid range for imshow with RGB data ([0..1] for floats or [0..255] for integers).\n",
            "WARNING:matplotlib.image:Clipping input data to the valid range for imshow with RGB data ([0..1] for floats or [0..255] for integers).\n",
            "WARNING:matplotlib.image:Clipping input data to the valid range for imshow with RGB data ([0..1] for floats or [0..255] for integers).\n"
          ]
        },
        {
          "output_type": "display_data",
          "data": {
            "text/plain": [
              "<Figure size 640x480 with 6 Axes>"
            ],
            "image/png": "[encoded data removed]"
          },
          "metadata": {}
        }
      ],
      "source": [
        "for i in [1, 2, 3]:\n",
        "    # print(train_dataset[i][1])\n",
        "    plt.subplot(2, 3, i)\n",
        "    show_im(train_dataset[i][0])\n",
        "\n",
        "    plt.subplot(2, 3, i+3)\n",
        "    show_im(train_dataset[i][0]/train_dataset[i][0].abs().max())\n"
      ]
    },
    {
      "cell_type": "code",
      "execution_count": null,
      "metadata": {
        "id": "WSrPGwSXM0dW"
      },
      "outputs": [],
      "source": [
        "\n",
        "sample = 0\n",
        "for i, v in train_loader:\n",
        "    sample = i\n",
        "    break"
      ]
    },
    {
      "cell_type": "code",
      "execution_count": null,
      "metadata": {
        "id": "rK_NejnTj3ks"
      },
      "outputs": [],
      "source": []
    },
    {
      "cell_type": "code",
      "execution_count": null,
      "metadata": {
        "id": "9jk7V4EEM0Xu",
        "colab": {
          "base_uri": "https://localhost:8080/",
          "height": 423
        },
        "outputId": "de89d7e5-f9bd-4973-eda3-456f3901f029"
      },
      "outputs": [
        {
          "output_type": "stream",
          "name": "stderr",
          "text": [
            "WARNING:matplotlib.image:Clipping input data to the valid range for imshow with RGB data ([0..1] for floats or [0..255] for integers).\n"
          ]
        },
        {
          "output_type": "display_data",
          "data": {
            "text/plain": [
              "<Figure size 640x480 with 1 Axes>"
            ],
            "image/png": "[encoded data removed]"
          },
          "metadata": {}
        }
      ],
      "source": [
        "show_im(sample[0])"
      ]
    },
    {
      "cell_type": "code",
      "execution_count": null,
      "metadata": {
        "id": "4BHXo8KybY8M"
      },
      "outputs": [],
      "source": [
        "from torchvision.models._api import WeightsEnum\n",
        "from torch.hub import load_state_dict_from_url\n",
        "\n",
        "def get_state_dict(self, *args, **kwargs):\n",
        "    kwargs.pop(\"check_hash\")\n",
        "    return load_state_dict_from_url(self.url, *args, **kwargs)\n",
        "WeightsEnum.get_state_dict = get_state_dict"
      ]
    },
    {
      "cell_type": "markdown",
      "metadata": {
        "id": "S4kybRd_kxWh"
      },
      "source": [
        "##utils"
      ]
    },
    {
      "cell_type": "code",
      "execution_count": null,
      "metadata": {
        "id": "ezWzVFKGi9Vi"
      },
      "outputs": [],
      "source": []
    },
    {
      "cell_type": "code",
      "source": [],
      "metadata": {
        "id": "XYQfHoXCOvPz"
      },
      "execution_count": null,
      "outputs": []
    },
    {
      "cell_type": "code",
      "source": [
        "def clear_cuda():\n",
        "  torch.cuda.empty_cache()\n",
        "  torch.cuda.memory_summary(device=None, abbreviated=False)\n",
        "  # del unet_model\n",
        "\n",
        "  # del variables\n",
        "  gc.collect()"
      ],
      "metadata": {
        "id": "tJ1WF9RYOvhm"
      },
      "execution_count": null,
      "outputs": []
    },
    {
      "cell_type": "code",
      "execution_count": null,
      "metadata": {
        "id": "f_Klhiumi9nI"
      },
      "outputs": [],
      "source": [
        "class IdBlock(nn.Module):\n",
        "  def __init__(self):\n",
        "    super().__init__()\n",
        "  def forward(self, x):\n",
        "    return x"
      ]
    },
    {
      "cell_type": "code",
      "execution_count": null,
      "metadata": {
        "id": "hDXCO4d_k0ok"
      },
      "outputs": [],
      "source": [
        "def update_loader(base_transform, pre_transform):\n",
        "  train_transform = tt.Compose([\n",
        "      # EfficientNet_B3_Weights.IMAGENET1K_V1.transforms(),\n",
        "      base_transform,\n",
        "      *pre_transform\n",
        "  ])\n",
        "  test_transform = base_transform\n",
        "\n",
        "  train_dataset = FaceDataset(train_data, mode='train', transform=train_transform)\n",
        "  val_dataset = FaceDataset(val_data, mode='val', transform=test_transform)\n",
        "  test_dataset = FaceDataset(test_data, mode='test', transform=test_transform)\n",
        "\n",
        "  train_loader = DataLoader(train_dataset, batch_size=BATCH_SIZE, shuffle=True)\n",
        "  val_loader = DataLoader(val_dataset, batch_size=BATCH_SIZE, shuffle=True)\n",
        "  test_loader = DataLoader(test_dataset, batch_size=BATCH_SIZE, shuffle=True)\n",
        "\n",
        "  return train_loader, val_loader, test_loader\n",
        "\n"
      ]
    },
    {
      "cell_type": "code",
      "source": [],
      "metadata": {
        "id": "6nw11vYyOuqZ"
      },
      "execution_count": null,
      "outputs": []
    },
    {
      "cell_type": "code",
      "execution_count": null,
      "metadata": {
        "id": "e2mk7MNtcUhJ"
      },
      "outputs": [],
      "source": [
        "def fit_epoch(model, train_loader, criterion, optimizer):\n",
        "    running_loss = 0.0\n",
        "    running_corrects = 0\n",
        "    processed_data = 0\n",
        "    model.to(DEVICE)\n",
        "    for inputs, labels in train_loader:\n",
        "        inputs = inputs.to(DEVICE)\n",
        "        labels = labels.to(DEVICE)\n",
        "        optimizer.zero_grad()\n",
        "        outputs = model(inputs)\n",
        "        loss = criterion(outputs, labels)\n",
        "        loss.backward()\n",
        "        optimizer.step()\n",
        "        preds = torch.argmax(outputs, 1)\n",
        "        running_loss += loss.item() * inputs.size(0)\n",
        "        running_corrects += torch.sum(preds == labels.data)\n",
        "        processed_data += inputs.size(0)\n",
        "\n",
        "    train_loss = running_loss / processed_data\n",
        "    train_acc = running_corrects.cpu().numpy() / processed_data\n",
        "    return train_loss, train_acc"
      ]
    },
    {
      "cell_type": "code",
      "execution_count": null,
      "metadata": {
        "id": "w_CD9--hcUjs"
      },
      "outputs": [],
      "source": [
        "def eval_epoch(model, val_loader, criterion):\n",
        "    model.eval()\n",
        "    running_loss = 0.0\n",
        "    running_corrects = 0\n",
        "    processed_size = 0\n",
        "\n",
        "    for inputs, labels in val_loader:\n",
        "        inputs = inputs.to(DEVICE)\n",
        "        labels = labels.to(DEVICE)\n",
        "\n",
        "        with torch.set_grad_enabled(False):\n",
        "            outputs = model(inputs)\n",
        "            loss = criterion(outputs, labels)\n",
        "            preds = torch.argmax(outputs, 1)\n",
        "\n",
        "        running_loss += loss.item() * inputs.size(0)\n",
        "        running_corrects += torch.sum(preds == labels.data)\n",
        "        processed_size += inputs.size(0)\n",
        "    val_loss = running_loss / processed_size\n",
        "    val_acc = running_corrects.cpu().numpy() / processed_size\n",
        "    return val_loss, val_acc"
      ]
    },
    {
      "cell_type": "code",
      "execution_count": null,
      "metadata": {
        "id": "joq76hcO902k"
      },
      "outputs": [],
      "source": [
        "def model_device(model_):\n",
        "    return next(model_.parameters()).device\n",
        "\n",
        "def freeze_layers(model_, numm=0, optimizer = torch.optim.Adam, lr1=1e-4, lr2=1e-5):\n",
        "    req_g = False\n",
        "    threshold = len(list(model_.features.parameters()))\n",
        "    print(f'{threshold=}')\n",
        "    for k, (name, module) in enumerate(model_.named_children()):\n",
        "        if name in ['classifier', 'avgpool']:\n",
        "            req_g = True\n",
        "        else:\n",
        "            req_g = False\n",
        "        c = 0\n",
        "        for k, i in enumerate(list(module.parameters())):\n",
        "            i.requires_grad = (k >= threshold-numm) or req_g\n",
        "            c += int(i.requires_grad)\n",
        "    print(count_graded(model_))\n",
        "    ret = {}\n",
        "    ret['model'] = model_\n",
        "    ret['optimizer'] = update_optimizer(model_, numm, optimizer, lr1, lr2)\n",
        "    return ret.values()\n",
        "\n",
        "def count_graded(model_):\n",
        "    d = {}\n",
        "    for name, mod in model_.named_children():\n",
        "        d[name] = {True:0, False:0}\n",
        "        for i in mod.parameters():\n",
        "            d[name][i.requires_grad] += 1\n",
        "    return d\n",
        "\n",
        "def update_optimizer(model_, num, optimizer, lr1, lr2):\n",
        "    return optimizer(\n",
        "        params=[\n",
        "            {\"params\": model_.classifier.parameters(), 'lr': lr1},\n",
        "            {\"params\": list(model_.features.parameters())[-num:], \"lr\": lr2,}\n",
        "        ])\n",
        "\n",
        "def train_w_freezed(model, train_datasset=train_dataset, val_dataset=val_dataset, unfreezed_nm=1, lr_classifier=1e-4, lr_feature=1e-4, loss_fn=nn.CrossEntropyLoss, epochs=5, batch_size=64):\n",
        "  train_w_freezed.called_times += 1\n",
        "  model.to(DEVICE)\n",
        "  model, optimizer = freeze_layers(model, numm = unfreezed_nm, lr1=lr_classifier, lr2=lr_feature)\n",
        "  history = train(train_dataset, val_dataset, model=model, epochs=epochs, batch_size=batch_size, loss_fn=loss_fn, opt=optimizer)\n",
        "  # torch.save(model, f'/content/gdrive/MyDrive/finefn{train_w_freezed.called_times}.pth')\n",
        "  return history\n",
        "\n",
        "train_w_freezed.called_times = 6"
      ]
    },
    {
      "cell_type": "code",
      "execution_count": null,
      "metadata": {
        "id": "ulT1yFGrCM3M"
      },
      "outputs": [],
      "source": [
        "def fit_epoch_arcane(model, train_loader, criterion, optimizer):\n",
        "    running_loss = 0.0\n",
        "    running_corrects = 0\n",
        "    processed_data = 0\n",
        "    model.to(DEVICE)\n",
        "    # print(f\"{train_loader}\")\n",
        "    for inputs, labels in train_loader:\n",
        "        inputs = inputs.to(DEVICE)\n",
        "        labels = labels.to(DEVICE)\n",
        "        optimizer.zero_grad()\n",
        "\n",
        "        embed = model(inputs)\n",
        "        loss, outputs = criterion(embed, labels)\n",
        "        # print(loss.shape)\n",
        "        loss.backward()\n",
        "        optimizer.step()\n",
        "        preds = torch.argmax(outputs, 1)\n",
        "        running_loss += loss.item() * inputs.size(0)\n",
        "        running_corrects += torch.sum(preds == labels.data)\n",
        "        processed_data += inputs.size(0)\n",
        "\n",
        "    train_loss = running_loss / processed_data\n",
        "    train_acc = running_corrects.cpu().numpy() / processed_data\n",
        "    return train_loss, train_acc\n",
        "\n",
        "def eval_epoch_arcane(model, val_loader, criterion):\n",
        "    model.eval()\n",
        "    running_loss = 0.0\n",
        "    running_corrects = 0\n",
        "    processed_size = 0\n",
        "\n",
        "    for inputs, labels in val_loader:\n",
        "        inputs = inputs.to(DEVICE)\n",
        "        labels = labels.to(DEVICE)\n",
        "\n",
        "        with torch.set_grad_enabled(False):\n",
        "            embed = model(inputs)\n",
        "            loss, outputs = criterion(embed, labels)\n",
        "            preds = torch.argmax(outputs, 1)\n",
        "\n",
        "        running_loss += loss.item() * inputs.size(0)\n",
        "        running_corrects += torch.sum(preds == labels.data)\n",
        "        processed_size += inputs.size(0)\n",
        "    val_loss = running_loss / processed_size\n",
        "    val_acc = running_corrects.cpu().numpy() / processed_size\n",
        "    return val_loss, val_acc\n",
        "\n",
        "def train_arcane(train_loader, val_loader, model, epochs, batch_size, opt, lr1=1e-4, lr2=1e-4, criterion = nn.CrossEntropyLoss()):\n",
        "    model.to(DEVICE)\n",
        "    criterion.to(DEVICE)\n",
        "    history = []\n",
        "    log_template = \"\\nEpoch {ep:03d} train_loss: {t_loss:0.4f} \\\n",
        "    val_loss {v_loss:0.4f} train_acc {t_acc:0.4f} val_acc {v_acc:0.4f}\"\n",
        "\n",
        "\n",
        "    with tqdm(desc=\"epoch\", total=epochs) as pbar_outer:\n",
        "\n",
        "\n",
        "        for epoch in range(epochs):\n",
        "            train_loss, train_acc = fit_epoch_arcane(model, train_loader, criterion, opt)\n",
        "\n",
        "            val_loss, val_acc = eval_epoch_arcane(model, val_loader, criterion)\n",
        "            history.append((train_loss, train_acc, val_loss, val_acc))\n",
        "\n",
        "            pbar_outer.update(1)\n",
        "            tqdm.write(log_template.format(ep=epoch+1, t_loss=train_loss,\\\n",
        "                                           v_loss=val_loss, t_acc=train_acc, v_acc=val_acc))\n",
        "\n",
        "    return history"
      ]
    },
    {
      "cell_type": "code",
      "execution_count": null,
      "metadata": {
        "id": "BlPmF6mfi6_q"
      },
      "outputs": [],
      "source": [
        "def update_opt_resnet(model, opt, num, lr):\n",
        "    params = []\n",
        "    for name, i in list(model.named_children())[-num:]:\n",
        "        # print(name)\n",
        "        params.append({'params': i.parameters(), 'lr': lr})\n",
        "    # print(params)\n",
        "    return opt(params)\n",
        "\n",
        "def freeze_blocks(model, num, blocks, opt=torch.optim.Adam, lr=1e-4):\n",
        "    req = False\n",
        "    for name, module in model.named_children():\n",
        "        if name == blocks[-num]:\n",
        "            req = True\n",
        "        for param in module.parameters():\n",
        "            param.requires_grad = req\n",
        "        # print(name)\n",
        "    return update_opt_resnet(model, opt, num, lr)\n",
        "\n",
        "# opt = freeze_blocks(modelResNet, 3, blocks)\n",
        "# count_graded(modelResNet)"
      ]
    },
    {
      "cell_type": "code",
      "execution_count": null,
      "metadata": {
        "id": "uC07qfTc500M"
      },
      "outputs": [],
      "source": [
        "def train(train_loader, val_loader, model, epochs, batch_size, opt, lr1=1e-4, lr2=1e-4, criterion = nn.CrossEntropyLoss()):\n",
        "    model.to(DEVICE)\n",
        "    criterion.to(DEVICE)\n",
        "    history = []\n",
        "    log_template = \"\\nEpoch {ep:03d} train_loss: {t_loss:0.4f} \\\n",
        "    val_loss {v_loss:0.4f} train_acc {t_acc:0.4f} val_acc {v_acc:0.4f}\"\n",
        "\n",
        "\n",
        "    with tqdm(desc=\"epoch\", total=epochs) as pbar_outer:\n",
        "\n",
        "\n",
        "        for epoch in range(epochs):\n",
        "            train_loss, train_acc = fit_epoch(model, train_loader, criterion, opt)\n",
        "            print(\"loss\", train_loss)\n",
        "\n",
        "            val_loss, val_acc = eval_epoch(model, val_loader, criterion)\n",
        "            history.append((train_loss, train_acc, val_loss, val_acc))\n",
        "\n",
        "            pbar_outer.update(1)\n",
        "            tqdm.write(log_template.format(ep=epoch+1, t_loss=train_loss,\\\n",
        "                                           v_loss=val_loss, t_acc=train_acc, v_acc=val_acc))\n",
        "\n",
        "    return history\n",
        "\n",
        "def train_arcane(train_loader, val_loader, model, epochs, batch_size, opt, lr1=1e-4, lr2=1e-4, criterion = nn.CrossEntropyLoss()):\n",
        "    model.to(DEVICE)\n",
        "    criterion.to(DEVICE)\n",
        "    history = []\n",
        "    log_template = \"\\nEpoch {ep:03d} train_loss: {t_loss:0.4f} \\\n",
        "    val_loss {v_loss:0.4f} train_acc {t_acc:0.4f} val_acc {v_acc:0.4f}\"\n",
        "\n",
        "\n",
        "    with tqdm(desc=\"epoch\", total=epochs) as pbar_outer:\n",
        "\n",
        "\n",
        "        for epoch in range(epochs):\n",
        "            train_loss, train_acc = fit_epoch_arcane(model, train_loader, criterion, opt)\n",
        "\n",
        "            val_loss, val_acc = eval_epoch_arcane(model, val_loader, criterion)\n",
        "            history.append((train_loss, train_acc, val_loss, val_acc))\n",
        "\n",
        "            pbar_outer.update(1)\n",
        "            tqdm.write(log_template.format(ep=epoch+1, t_loss=train_loss,\\\n",
        "                                           v_loss=val_loss, t_acc=train_acc, v_acc=val_acc))\n",
        "\n",
        "    return history"
      ]
    },
    {
      "cell_type": "code",
      "source": [],
      "metadata": {
        "id": "Yn3KxX6FlwP-"
      },
      "execution_count": null,
      "outputs": []
    },
    {
      "cell_type": "markdown",
      "metadata": {
        "id": "oYTY43YjlwtD"
      },
      "source": [
        "# Resnet -- получилось"
      ]
    },
    {
      "cell_type": "markdown",
      "source": [
        "Сначала тренируем resnet на обычный CELoss, получаем accuracy 72%"
      ],
      "metadata": {
        "id": "Wevga6v-l0cr"
      }
    },
    {
      "cell_type": "code",
      "execution_count": null,
      "metadata": {
        "id": "87LgM6WMlwtE",
        "colab": {
          "base_uri": "https://localhost:8080/"
        },
        "outputId": "0bd88dc4-86d5-4d95-99eb-ec04ed61fd21"
      },
      "outputs": [
        {
          "output_type": "stream",
          "name": "stderr",
          "text": [
            "/usr/local/lib/python3.10/dist-packages/torchvision/models/_utils.py:135: UserWarning: Using 'weights' as positional parameter(s) is deprecated since 0.13 and may be removed in the future. Please use keyword parameter(s) instead.\n",
            "  warnings.warn(\n",
            "Downloading: \"https://download.pytorch.org/models/resnet18-f37072fd.pth\" to /root/.cache/torch/hub/checkpoints/resnet18-f37072fd.pth\n",
            "100%|██████████| 44.7M/44.7M [00:00<00:00, 316MB/s]\n"
          ]
        }
      ],
      "source": [
        "modelResNet1 = resnet18(ResNet18_Weights.IMAGENET1K_V1)\n",
        "modelResNet1;"
      ]
    },
    {
      "cell_type": "code",
      "execution_count": null,
      "metadata": {
        "id": "EJLXzyVUlwtE"
      },
      "outputs": [],
      "source": [
        "class IdBlock(nn.Module):\n",
        "  def __init__(self):\n",
        "    super().__init__()\n",
        "  def forward(self, x):\n",
        "    return x"
      ]
    },
    {
      "cell_type": "code",
      "execution_count": null,
      "metadata": {
        "id": "_aVsFoPdlwtE"
      },
      "outputs": [],
      "source": [
        "# modelResNet = resnet18(ResNet18_Weights.IMAGENET1K_V1)\n",
        "modelResNet = torch.load('/content/drive/MyDrive/DLS project/modelResnet.pth')"
      ]
    },
    {
      "cell_type": "code",
      "execution_count": null,
      "metadata": {
        "id": "v2G9eGitlwtE",
        "colab": {
          "base_uri": "https://localhost:8080/"
        },
        "outputId": "58eab0a3-d7fc-4e0d-dd52-f2bb0748cb1f"
      },
      "outputs": [
        {
          "output_type": "execute_result",
          "data": {
            "text/plain": [
              "0.7293895483016968"
            ]
          },
          "metadata": {},
          "execution_count": 31
        }
      ],
      "source": [
        "modelResNet.eval()\n",
        "evaluate(modelResNet, test_loader)"
      ]
    },
    {
      "cell_type": "code",
      "execution_count": null,
      "metadata": {
        "id": "M1BJHMBPlwtE"
      },
      "outputs": [],
      "source": [
        "blocks = [i[0] for i in modelResNet.named_children()]\n",
        "blocks"
      ]
    },
    {
      "cell_type": "code",
      "execution_count": null,
      "metadata": {
        "id": "cairEQWAlwtE"
      },
      "outputs": [],
      "source": [
        "modelResNet.fc = nn.Sequential(\n",
        "    nn.Linear(512, 512)\n",
        "    , nn.ReLU()\n",
        "    , nn.Linear(512, 500)\n",
        ")"
      ]
    },
    {
      "cell_type": "code",
      "execution_count": null,
      "metadata": {
        "id": "xoy2wN7tlwtF"
      },
      "outputs": [],
      "source": [
        "def fit_epoch(model, train_loader, criterion, optimizer):\n",
        "    running_loss = 0.0\n",
        "    running_corrects = 0\n",
        "    processed_data = 0\n",
        "    model.train()\n",
        "\n",
        "    for inputs, labels in train_loader:\n",
        "        inputs = inputs.to(DEVICE)\n",
        "        labels = labels.to(DEVICE)\n",
        "        optimizer.zero_grad()\n",
        "        outputs = model(inputs)\n",
        "        loss = criterion(outputs, labels)\n",
        "        loss.backward()\n",
        "        optimizer.step()\n",
        "        preds = torch.argmax(outputs, 1)\n",
        "        running_loss += loss.item() * inputs.size(0)\n",
        "        running_corrects += torch.sum(preds == labels.data)\n",
        "        processed_data += inputs.size(0)\n",
        "\n",
        "    train_loss = running_loss / processed_data\n",
        "    train_acc = running_corrects.cpu().numpy() / processed_data\n",
        "    return train_loss, train_acc\n",
        "\n",
        "def eval_epoch(model, val_loader, criterion):\n",
        "    model.eval()\n",
        "    running_loss = 0.0\n",
        "    running_corrects = 0\n",
        "    processed_size = 0\n",
        "\n",
        "    for inputs, labels in val_loader:\n",
        "        inputs = inputs.to(DEVICE)\n",
        "        labels = labels.to(DEVICE)\n",
        "\n",
        "        with torch.set_grad_enabled(False):\n",
        "            outputs = model(inputs)\n",
        "            loss = criterion(outputs, labels)\n",
        "            preds = torch.argmax(outputs, 1)\n",
        "\n",
        "        running_loss += loss.item() * inputs.size(0)\n",
        "        running_corrects += torch.sum(preds == labels.data)\n",
        "        processed_size += inputs.size(0)\n",
        "    val_loss = running_loss / processed_size\n",
        "    val_acc = running_corrects.double().cpu().numpy() / processed_size\n",
        "    return val_loss, val_acc\n"
      ]
    },
    {
      "cell_type": "code",
      "execution_count": null,
      "metadata": {
        "id": "1wMYlGg_lwtF"
      },
      "outputs": [],
      "source": [
        "# opt = torch.optim.Adam(\n",
        "#         params=[\n",
        "#             {\"params\": modelResNet.layer4.parameters(), 'lr': 1e-4},\n",
        "#             {\"params\": modelResNet.fc.parameters(), \"lr\": 1e-4}\n",
        "#         ])\n",
        "hist = train(train_loader, val_loader, modelResNet, epochs=10, batch_size=32, opt=opt)"
      ]
    },
    {
      "cell_type": "code",
      "execution_count": null,
      "metadata": {
        "id": "c3fJkoOKlwtF"
      },
      "outputs": [],
      "source": [
        "loss, acc, val_loss, val_acc = zip(*hist)"
      ]
    },
    {
      "cell_type": "code",
      "execution_count": null,
      "metadata": {
        "id": "5djPFe7KlwtF"
      },
      "outputs": [],
      "source": [
        "plt.figure(figsize=(15, 9))\n",
        "plt.subplot(2, 1, 1)\n",
        "plt.plot(loss, label=\"train_loss\")\n",
        "plt.plot(val_loss, label=\"val_loss\")\n",
        "plt.legend(loc='best')\n",
        "plt.xlabel(\"epochs\")\n",
        "plt.ylabel(\"loss\")\n",
        "plt.subplot(2, 1, 2)\n",
        "plt.plot(acc, label=\"train_acc\")\n",
        "plt.plot(val_acc, label=\"val_acc\")\n",
        "plt.legend(loc='best')\n",
        "plt.xlabel(\"epochs\")\n",
        "plt.ylabel(\"accuracy\")\n",
        "plt.show()"
      ]
    },
    {
      "cell_type": "code",
      "execution_count": null,
      "metadata": {
        "id": "GOlc0grklwtF"
      },
      "outputs": [],
      "source": [
        "print(count_graded(modelResNet))\n",
        "modelResNet.eval()\n",
        "print(evaluate(modelResNet, test_loader))\n",
        "print(evaluate(modelResNet, train_loader))"
      ]
    },
    {
      "cell_type": "code",
      "execution_count": null,
      "metadata": {
        "id": "K_Pwj8kblwtF"
      },
      "outputs": [],
      "source": [
        "opt1 = freeze_blocks(modelResNet, 4, blocks)\n",
        "\n",
        "count_graded(modelResNet)"
      ]
    },
    {
      "cell_type": "code",
      "execution_count": null,
      "metadata": {
        "id": "payHkLUslwtF"
      },
      "outputs": [],
      "source": [
        "hist1 = train(train_loader, val_loader, modelResNet, epochs=10, batch_size=32, opt=opt1)"
      ]
    },
    {
      "cell_type": "code",
      "execution_count": null,
      "metadata": {
        "id": "ebzw8OoslwtF"
      },
      "outputs": [],
      "source": [
        "opt2 = freeze_blocks(modelResNet, 7, blocks)\n",
        "\n",
        "count_graded(modelResNet)\n",
        "\n",
        "hist2 = train(train_loader, val_loader, modelResNet, epochs=10, batch_size=32, opt=opt2)"
      ]
    },
    {
      "cell_type": "code",
      "execution_count": null,
      "metadata": {
        "id": "8y7Ph75klwtF"
      },
      "outputs": [],
      "source": [
        "opt3 = freeze_blocks(modelResNet, 8, blocks)\n",
        "\n",
        "count_graded(modelResNet)\n",
        "\n",
        "hist3 = train(train_loader, val_loader, modelResNet, epochs=5, batch_size=32, opt=opt3)"
      ]
    },
    {
      "cell_type": "code",
      "execution_count": null,
      "metadata": {
        "id": "FZfozQKqlwtG"
      },
      "outputs": [],
      "source": [
        "opt4 = freeze_blocks(modelResNet, 9, blocks)\n",
        "\n",
        "count_graded(modelResNet)\n",
        "\n",
        "hist4 = train(train_loader, val_loader, modelResNet, epochs=5, batch_size=32, opt=opt4)"
      ]
    },
    {
      "cell_type": "code",
      "execution_count": null,
      "metadata": {
        "id": "j9JBoiJ8lwtG"
      },
      "outputs": [],
      "source": [
        "opt5 = freeze_blocks(modelResNet, 9, blocks)\n",
        "\n",
        "count_graded(modelResNet)\n",
        "\n",
        "hist5 = train(train_loader, val_loader, modelResNet, epochs=10, batch_size=32, opt=opt5)"
      ]
    },
    {
      "cell_type": "code",
      "execution_count": null,
      "metadata": {
        "id": "g8PwM2QAlwtG"
      },
      "outputs": [],
      "source": [
        "train_transform = tt.Compose([\n",
        "    # EfficientNet_B3_Weights.IMAGENET1K_V1.transforms(),\n",
        "    res_transform(),\n",
        "    tt.RandomHorizontalFlip(p=0.5),\n",
        "    # tt.RandomPerspective(distortion_scale=0.5, p=0.3,)\n",
        "])\n",
        "test_transform = res_transform()"
      ]
    },
    {
      "cell_type": "code",
      "execution_count": null,
      "metadata": {
        "id": "-IBxWwyElwtG"
      },
      "outputs": [],
      "source": [
        "\n",
        "train_dataset = FaceDataset(train_data, mode='train', transform=train_transform)\n",
        "val_dataset = FaceDataset(val_data, mode='val', transform=test_transform)\n",
        "test_dataset = FaceDataset(test_data, mode='test', transform=test_transform)\n",
        "\n",
        "train_loader = DataLoader(train_dataset, batch_size=BATCH_SIZE, shuffle=True)\n",
        "val_loader = DataLoader(val_dataset, batch_size=BATCH_SIZE, shuffle=True)\n",
        "test_loader = DataLoader(test_dataset, batch_size=BATCH_SIZE, shuffle=True)"
      ]
    },
    {
      "cell_type": "code",
      "execution_count": null,
      "metadata": {
        "id": "aOTOvK0klwtG"
      },
      "outputs": [],
      "source": [
        "opt6 = freeze_blocks(modelResNet, 9, blocks)\n",
        "\n",
        "count_graded(modelResNet)\n",
        "\n",
        "hist6 = train(train_loader, val_loader, modelResNet, epochs=5, batch_size=32, opt=opt6)"
      ]
    },
    {
      "cell_type": "code",
      "execution_count": null,
      "metadata": {
        "id": "34uV6RxJlwtG"
      },
      "outputs": [],
      "source": [
        "hist7 = train(train_loader, val_loader, modelResNet, epochs=5, batch_size=32, opt=opt6)"
      ]
    },
    {
      "cell_type": "code",
      "execution_count": null,
      "metadata": {
        "id": "TuPJ2Si6lwtG"
      },
      "outputs": [],
      "source": [
        "opt6 = freeze_blocks(modelResNet, 9, blocks, lr=1e-5)\n",
        "\n",
        "count_graded(modelResNet)\n",
        "\n",
        "hist6 = train(train_loader, val_loader, modelResNet, epochs=5, batch_size=32, opt=opt6)"
      ]
    },
    {
      "cell_type": "code",
      "execution_count": null,
      "metadata": {
        "id": "Qqvm5VWblwtG"
      },
      "outputs": [],
      "source": [
        "opt6 = freeze_blocks(modelResNet, 8, blocks, lr=1e-5)\n",
        "\n",
        "count_graded(modelResNet)\n",
        "\n",
        "hist6 = train(train_loader, val_loader, modelResNet, epochs=5, batch_size=32, opt=opt6)"
      ]
    },
    {
      "cell_type": "code",
      "source": [
        "# modelResNet = torch.load(\"./modelResnet.pth\")"
      ],
      "metadata": {
        "id": "9SgspC4rlwtG"
      },
      "execution_count": null,
      "outputs": []
    },
    {
      "cell_type": "markdown",
      "source": [
        "##accuracy 72"
      ],
      "metadata": {
        "id": "3wGc_ctiw8_n"
      }
    },
    {
      "cell_type": "code",
      "execution_count": null,
      "metadata": {
        "id": "ToaN-HxjlwtH",
        "colab": {
          "base_uri": "https://localhost:8080/"
        },
        "outputId": "10ea85e6-90cc-4b3f-ca05-8394258f3481"
      },
      "outputs": [
        {
          "output_type": "execute_result",
          "data": {
            "text/plain": [
              "0.7293895483016968"
            ]
          },
          "metadata": {},
          "execution_count": 32
        }
      ],
      "source": [
        "evaluate(modelResNet, test_loader)"
      ]
    },
    {
      "cell_type": "code",
      "execution_count": null,
      "metadata": {
        "id": "YSeXXNP9lwtH"
      },
      "outputs": [],
      "source": [
        "torch.save(modelResNet, \"/content/drive/MyDrive/DLS project/modelResnet.pth\")"
      ]
    },
    {
      "cell_type": "markdown",
      "metadata": {
        "id": "wBgtXsSm8Etk"
      },
      "source": [
        "#ArcFaceLoss -- получилось"
      ]
    },
    {
      "cell_type": "markdown",
      "source": [
        "Теперь обучаем resnet34 на ArcFaceLoss"
      ],
      "metadata": {
        "id": "m1EZ9-JZzcGe"
      }
    },
    {
      "cell_type": "code",
      "execution_count": null,
      "metadata": {
        "id": "PChN2_OUHaSu"
      },
      "outputs": [],
      "source": [
        "modelResNet1 = resnet34(ResNet34_Weights.IMAGENET1K_V1).to(DEVICE)\n",
        "modelResNet1;\n"
      ]
    },
    {
      "cell_type": "code",
      "execution_count": null,
      "metadata": {
        "id": "9XvKltx1HaS4"
      },
      "outputs": [],
      "source": [
        "class IdBlock(nn.Module):\n",
        "  def __init__(self):\n",
        "    super().__init__()\n",
        "  def forward(self, x):\n",
        "    return x"
      ]
    },
    {
      "cell_type": "code",
      "execution_count": null,
      "metadata": {
        "id": "TNBZkl5aGug1"
      },
      "outputs": [],
      "source": [
        "modelResNet1.fc = IdBlock()\n",
        "modelResNet1(sample).shape"
      ]
    },
    {
      "cell_type": "code",
      "execution_count": null,
      "metadata": {
        "id": "BiLix7bHEj4a"
      },
      "outputs": [],
      "source": [
        "x = torch.randn(size=(4, 32))\n",
        "nx = torch.norm(x, dim=(1))\n",
        "print(nx.shape, x.shape)\n",
        "xn = x/nx[:, None]\n",
        "print(torch.norm(x, dim=(1)))\n",
        "print(xn.norm(dim=(1)))\n",
        "print(xn[0].norm())\n",
        "l1 = nn.Linear(32, 16, bias=False)\n",
        "W = 0\n",
        "for i in l1.parameters():\n",
        "\n",
        "  W = i\n",
        "W.shape\n",
        "l1(x).shape\n",
        "print(l1)\n",
        "nw = torch.norm(W, dim=1)\n",
        "(W@x.T).shape\n",
        "\n",
        "wn = (W/nw[:, None])\n",
        "wn[0].shape, wn[0].norm()\n",
        "xn[0].shape, xn[0].norm()\n",
        "cos_theta = (xn[0]*wn[0]).sum()\n",
        "cosineses = (xn@wn.T)\n",
        "cosineses[0, 0]\n",
        "xx = x[0]\n",
        "ww = W[0]\n",
        "(xx*ww).sum()/xx.norm()/ww.norm()\n",
        "sinuses = torch.sqrt(1 - torch.pow(cosineses, 2))"
      ]
    },
    {
      "cell_type": "code",
      "execution_count": null,
      "metadata": {
        "id": "D_Clb16IJhTx"
      },
      "outputs": [],
      "source": [
        "class ArcFaceLoss(nn.Module):\n",
        "    def __init__(self, num_classes, embedding_size, m, scale):\n",
        "        super().__init__()\n",
        "        self.num_classes = num_classes\n",
        "        self.embedding_size = embedding_size\n",
        "        self.m = m\n",
        "        self.scale = scale\n",
        "        self.cosm = np.cos(m)\n",
        "        self.sinm = np.sin(m)\n",
        "        self.W = torch.nn.Parameter(torch.Tensor(embedding_size, num_classes))\n",
        "        nn.init.xavier_normal_(self.W)\n",
        "\n",
        "    def forward(self, embeddings, labels):\n",
        "        cosine = self.fc(embeddings)\n",
        "        mask = self.onehot(labels)\n",
        "        cosine_of_target_classes = cosine[mask == 1]\n",
        "        modified_cosine_of_target_classes = self.transform_true(\n",
        "            cosine_of_target_classes\n",
        "        )\n",
        "        diff = (modified_cosine_of_target_classes - cosine_of_target_classes).unsqueeze(1)\n",
        "        logits = cosine + (mask * diff)\n",
        "        logits = self.scale_logits(logits)\n",
        "        return nn.CrossEntropyLoss()(logits, labels), logits\n",
        "\n",
        "    def fc(self, embeddings):\n",
        "\n",
        "        cosine = F.linear(F.normalize(embeddings), F.normalize(self.W.T))\n",
        "        return cosine\n",
        "\n",
        "    def onehot(self, labels):\n",
        "\n",
        "        batch_size = labels.size(0)\n",
        "        onehot_ = torch.zeros(batch_size, self.num_classes, device=DEVICE)\n",
        "        onehot_.scatter_(1, labels.unsqueeze(-1), 1)\n",
        "        return onehot_\n",
        "\n",
        "    def transform_true(self, cosineses):\n",
        "\n",
        "        eps = 1e-6\n",
        "        sinuses = 1.0 - cosineses**2\n",
        "        return cosineses*self.cosm - sinuses*self.sinm\n",
        "\n",
        "    def scale_logits(self, logits):\n",
        "\n",
        "        return logits * self.scale\n",
        "\n",
        "class ArcModel(nn.Module):\n",
        "  def __init__(self, model, arcloss):\n",
        "        super().__init__()\n",
        "        self.model = model\n",
        "        self.loss = arcloss\n",
        "\n",
        "        self.num_of_params = len(list(model.parameters()))\n",
        "\n",
        "  def forward(self, x):\n",
        "        emb12 = self.model(sample)\n",
        "        cos12 = self.loss.fc(emb12)\n",
        "        logits12 = self.loss.scale_logits(cos12)\n",
        "        probs = nn.Softmax(dim=1)(logits12)\n",
        "        return probs\n",
        "  def freeze_layers(self, ratio, opt, lr=1e-4, lr_loss=1e-5):\n",
        "        tr = int(ratio*self.num_of_params)\n",
        "        params = []\n",
        "        cur = 0\n",
        "        req = False\n",
        "\n",
        "        for i in self.model.parameters():\n",
        "            if cur >= tr:\n",
        "                i.requires_grad = True\n",
        "                params.append({'params':i, 'lr':lr})\n",
        "            else:\n",
        "                i.requires_grad = False\n",
        "            cur += 1\n",
        "        params.append({'params':self.loss.parameters(), 'lr':lr_loss})\n",
        "        # print(params)\n",
        "        return opt(params=params)"
      ]
    },
    {
      "cell_type": "code",
      "execution_count": null,
      "metadata": {
        "id": "u6uI7t-SUjDU"
      },
      "outputs": [],
      "source": [
        "# class ArcFaceLossSoftMax(nn.Module):\n",
        "#   def __init__(self, m:float, s:float)->None:\n",
        "#     super().__init__()\n",
        "\n",
        "#     self.m = m\n",
        "#     self.s = s\n",
        "\n",
        "#     self.cosm = np.cos(m)\n",
        "#     self.sinm = np.sin(m)\n",
        "\n",
        "#   def forward(self, cosineses):\n",
        "#     sinuses = torch.sqrt(1 - torch.pow(cosineses, 2))\n",
        "#     cos_tm  = cosineses*self.cosm - sinuses*self.sinm\n",
        "\n",
        "\n",
        "#     expon = torch.exp(self.s*cosineses)\n",
        "\n",
        "#     expon_pm = torch.exp(self.s*cos_tm)\n",
        "\n",
        "#     sum_exp = expon.sum(dim=1)\n",
        "#     sum_exp_exc = sum_exp[:, None]-expon\n",
        "\n",
        "#     SM = expon_pm/(expon_pm + sum_exp_exc)\n",
        "\n",
        "#     return SM\n",
        "\n",
        "# class ArcFaceLossFC(nn.Module):\n",
        "#   def __init__(self, in_, out_)->None:\n",
        "#     super().__init__()\n",
        "\n",
        "#     self.W = nn.Parameter(torch.randn(size = (out_, in_)))\n",
        "\n",
        "\n",
        "#   def forward(self, x):\n",
        "#     nx = torch.norm(x, dim=1)\n",
        "#     xn = x/nx[:, None]\n",
        "\n",
        "#     nw = torch.norm(self.W, dim=1)\n",
        "#     wn = (self.W/nw[:, None])\n",
        "#     cosineses = (xn@wn.T)\n",
        "#     return cosineses\n",
        "\n",
        "# class ArcFaceLossEntropy(nn.Module):\n",
        "#   def __init__(self, num_classes):\n",
        "#     super().__init__()\n",
        "#     self.num_classes = num_classes\n",
        "\n",
        "#   def forward(self, inp, target):\n",
        "#     one_hotted = F.one_hot(target, num_classes=self.num_classes)\n",
        "#     correct = inp[one_hotted==1]\n",
        "#     l = -torch.sum(torch.log(correct))/len(target)\n",
        "\n",
        "#     return l\n",
        "\n",
        "# class ArcFaceLoss(nn.Module):\n",
        "#   def __init__(self, in_, num_classes, m, s):\n",
        "#     super().__init__()\n",
        "#     self.fc = ArcFaceLossFC(in_=in_, out_=num_classes)\n",
        "#     self.sm =ArcFaceLossSoftMax(m=m, s=s)\n",
        "#     # self.entropy = ArcFaceLossEntropy(num_classes=num_classes)\n",
        "#     self.entropy = ArcFaceLossEntropy(num_classes)\n",
        "\n",
        "#   def forward(self, x, target):\n",
        "#     inp = self.sm(self.fc(x))\n",
        "#     return self.entropy(inp, target)\n",
        "\n",
        "\n"
      ]
    },
    {
      "cell_type": "code",
      "source": [
        "ARC = torch.load(\"/content/drive/MyDrive/DLS project/Копия jointModel1\")\n"
      ],
      "metadata": {
        "id": "61mwKpvUqKK-"
      },
      "execution_count": null,
      "outputs": []
    },
    {
      "cell_type": "code",
      "execution_count": null,
      "metadata": {
        "id": "PbHTAia5ysPy"
      },
      "outputs": [],
      "source": [
        "model = modelResNet1\n",
        "arcloss = ArcFaceLoss(embedding_size=512, num_classes=500, m=0.01, scale=20)\n",
        "model.to(DEVICE);"
      ]
    },
    {
      "cell_type": "code",
      "execution_count": null,
      "metadata": {
        "id": "wTU808L63lxx"
      },
      "outputs": [],
      "source": [
        "ARC = ArcModel(model, arcloss).to(DEVICE)"
      ]
    },
    {
      "cell_type": "code",
      "execution_count": null,
      "metadata": {
        "id": "NSal9-m5_vXF"
      },
      "outputs": [],
      "source": [
        "opt14 = ARC.freeze_layers(0.6, torch.optim.Adam, 1e-4)\n",
        "count_graded(ARC.model)"
      ]
    },
    {
      "cell_type": "code",
      "execution_count": null,
      "metadata": {
        "id": "PD2eWAZEAM9V"
      },
      "outputs": [],
      "source": [
        "count_graded(ARC.model)"
      ]
    },
    {
      "cell_type": "code",
      "execution_count": null,
      "metadata": {
        "id": "cY_Aja6by71q"
      },
      "outputs": [],
      "source": [
        "hist_myModel = train_arcane(train_loader, val_loader, ARC.model, epochs=5, batch_size=32, opt=opt14, criterion=ARC.loss)"
      ]
    },
    {
      "cell_type": "code",
      "execution_count": null,
      "metadata": {
        "id": "mSgiDE-SEQ3U"
      },
      "outputs": [],
      "source": [
        "opt14 = ARC.freeze_layers(0.2, torch.optim.Adam, 1e-4)\n",
        "count_graded(ARC.model)"
      ]
    },
    {
      "cell_type": "code",
      "execution_count": null,
      "metadata": {
        "id": "trOIiyveERLI"
      },
      "outputs": [],
      "source": [
        "hist_myModel = train_arcane(train_loader, val_loader, ARC.model, epochs=5, batch_size=32, opt=opt14, criterion=ARC.loss)"
      ]
    },
    {
      "cell_type": "code",
      "execution_count": null,
      "metadata": {
        "id": "iEJxvIYDEYJo"
      },
      "outputs": [],
      "source": [
        "opt14 = ARC.freeze_layers(0.0, torch.optim.Adam, 1e-4, 1e-6)\n",
        "count_graded(ARC.model)"
      ]
    },
    {
      "cell_type": "code",
      "execution_count": null,
      "metadata": {
        "id": "dsOGcfoDEVX8"
      },
      "outputs": [],
      "source": [
        "hist_myModel = train_arcane(train_loader, val_loader, ARC.model, epochs=5, batch_size=32, opt=opt14, criterion=ARC.loss)"
      ]
    },
    {
      "cell_type": "code",
      "source": [
        "opt14 = ARC.freeze_layers(0.0, torch.optim.Adam, 1e-4, 1e-7)\n",
        "hist_myModel1 = train_arcane(train_loader, val_loader, ARC.model, epochs=5, batch_size=32, opt=opt14, criterion=ARC.loss)"
      ],
      "metadata": {
        "id": "t0VmCARoNy4N"
      },
      "execution_count": null,
      "outputs": []
    },
    {
      "cell_type": "code",
      "execution_count": null,
      "metadata": {
        "id": "pIr3C8UvEVkS"
      },
      "outputs": [],
      "source": [
        "opt14 = ARC.freeze_layers(0.0, torch.optim.Adam, 1e-4, 1e-7)\n",
        "hist_myModel1 = train_arcane(train_loader, val_loader, ARC.model, epochs=7, batch_size=32, opt=opt14, criterion=ARC.loss)"
      ]
    },
    {
      "cell_type": "code",
      "source": [
        "opt14 = ARC.freeze_layers(0.0, torch.optim.Adam, 1e-5, 1e-8)\n",
        "hist_myModel1 = train_arcane(train_loader, val_loader, ARC.model, epochs=5, batch_size=32, opt=opt14, criterion=ARC.loss)"
      ],
      "metadata": {
        "id": "pqqxEdJTUwrm"
      },
      "execution_count": null,
      "outputs": []
    },
    {
      "cell_type": "code",
      "execution_count": null,
      "metadata": {
        "id": "kmqJBzQpBoHY"
      },
      "outputs": [],
      "source": [
        "en, den = 0, 0\n",
        "with torch.no_grad():\n",
        "  for sample, label in test_loader:\n",
        "    sample = sample.to(DEVICE)\n",
        "\n",
        "    probs = ARC(sample)\n",
        "    preds = torch.argmax(probs, dim=1).detach().cpu()\n",
        "    acc = (label==preds).sum().item()\n",
        "    en += acc\n",
        "    den += len(label)\n",
        "print(en, den, en/den)"
      ]
    },
    {
      "cell_type": "code",
      "execution_count": null,
      "metadata": {
        "id": "bHUOL2oY_tz1"
      },
      "outputs": [],
      "source": [
        "torch.save(ARC.model, \"/content/drive/MyDrive/DLS project/jointModel1_model\")\n",
        "torch.save(ARC.loss, \"/content/drive/MyDrive/DLS project/jointModel1_loss\")\n",
        "torch.save(ARC, \"/content/drive/MyDrive/DLS project/jointModel1\")"
      ]
    },
    {
      "cell_type": "markdown",
      "source": [
        "##accuuracy 73"
      ],
      "metadata": {
        "id": "qPfMm4QB4sL9"
      }
    },
    {
      "cell_type": "code",
      "execution_count": null,
      "metadata": {
        "id": "w3u_x1yoCXIy"
      },
      "outputs": [],
      "source": [
        "ARC = torch.load(\"/content/drive/MyDrive/DLS project/jointModel1\")\n",
        "# ARC = torch.load(\"/content/drive/MyDrive/jointModel1\")"
      ]
    },
    {
      "cell_type": "code",
      "source": [
        "en, den = 0, 0\n",
        "with torch.no_grad():\n",
        "  for sample, label in test_loader:\n",
        "    sample = sample.to(DEVICE)\n",
        "    probs = ARC(sample)\n",
        "    preds = torch.argmax(probs, dim=1).detach().cpu()\n",
        "    acc = (label==preds).sum().item()\n",
        "    en += acc\n",
        "    den += len(label)\n",
        "\n",
        "print(en, den, en/den)"
      ],
      "metadata": {
        "id": "62aKL6Wp4rCW",
        "colab": {
          "base_uri": "https://localhost:8080/"
        },
        "outputId": "83a3647b-f4de-439d-d559-5cbbf4989dbf"
      },
      "execution_count": null,
      "outputs": [
        {
          "output_type": "stream",
          "name": "stdout",
          "text": [
            "1171 1589 0.736941472624292\n"
          ]
        }
      ]
    },
    {
      "cell_type": "code",
      "source": [
        "torch.save(ARC.model, \"/content/drive/MyDrive/DLS project/jointModel1_model\")\n",
        "torch.save(ARC.loss, \"/content/drive/MyDrive/DLS project/jointModel1_loss\")\n",
        "torch.save(ARC, \"/content/drive/MyDrive/DLS project/jointModel1\")\n"
      ],
      "metadata": {
        "id": "J4J9_VvtqyCA"
      },
      "execution_count": null,
      "outputs": []
    },
    {
      "cell_type": "markdown",
      "source": [
        "#tpr@fpr -- получилось"
      ],
      "metadata": {
        "id": "F7fzeQ116BQg"
      }
    },
    {
      "cell_type": "markdown",
      "source": [
        "##Оценим модель обученную на ArcFaceLoss identification метрикой"
      ],
      "metadata": {
        "id": "VFmq-kZ0mOsG"
      }
    },
    {
      "cell_type": "code",
      "source": [
        "# !pip install numba\n",
        "# # from numba import cuda\n",
        "# device1 = cuda.get_current_device()\n",
        "# device1.reset()"
      ],
      "metadata": {
        "id": "uUdt6LNrM7dh"
      },
      "execution_count": null,
      "outputs": []
    },
    {
      "cell_type": "code",
      "source": [
        "distance = torch.nn.CosineSimilarity(dim=0, eps=1e-08)\n"
      ],
      "metadata": {
        "id": "4kdm1Nz4TE40"
      },
      "execution_count": null,
      "outputs": []
    },
    {
      "cell_type": "code",
      "source": [
        "ARC= torch.load(\"/content/drive/MyDrive/DLS project/jointModel1\")\n",
        "model = ARC.model"
      ],
      "metadata": {
        "id": "ZfvWdmy26EaP"
      },
      "execution_count": null,
      "outputs": []
    },
    {
      "cell_type": "code",
      "source": [
        "DEVICE"
      ],
      "metadata": {
        "id": "YXXRhXpvNdp3",
        "colab": {
          "base_uri": "https://localhost:8080/",
          "height": 35
        },
        "outputId": "d402d17a-257c-4e32-d530-41ece88aea0b"
      },
      "execution_count": null,
      "outputs": [
        {
          "output_type": "execute_result",
          "data": {
            "text/plain": [
              "'cuda'"
            ],
            "application/vnd.google.colaboratory.intrinsic+json": {
              "type": "string"
            }
          },
          "metadata": {},
          "execution_count": 50
        }
      ]
    },
    {
      "cell_type": "code",
      "source": [
        "en, den = 0, 0\n",
        "with torch.no_grad():\n",
        "  for sample, label in test_loader:\n",
        "    sample = sample.to(DEVICE)\n",
        "    probs = ARC(sample)\n",
        "    preds = torch.argmax(probs, dim=1).detach().cpu()\n",
        "    acc = (label==preds).sum().item()\n",
        "    en += acc\n",
        "    den += len(label)\n",
        "\n",
        "print(en, den, en/den)"
      ],
      "metadata": {
        "id": "EaBQPf59C8z8",
        "colab": {
          "base_uri": "https://localhost:8080/"
        },
        "outputId": "b380dba1-86c7-4d26-b0de-346882c8ca8c"
      },
      "execution_count": null,
      "outputs": [
        {
          "output_type": "stream",
          "name": "stdout",
          "text": [
            "1171 1589 0.736941472624292\n"
          ]
        }
      ]
    },
    {
      "cell_type": "code",
      "source": [
        "clear_cuda()"
      ],
      "metadata": {
        "id": "LS5yzNNnPFhC"
      },
      "execution_count": null,
      "outputs": []
    },
    {
      "cell_type": "code",
      "execution_count": null,
      "metadata": {
        "id": "u2wau1RqF5HL"
      },
      "outputs": [],
      "source": [
        "# Если вы работаете с данными, которые даны по ссылке,\n",
        "# то эта ячейка поможет их загрузить\n",
        "from collections import defaultdict\n",
        "\n",
        "# file with query part annotations: which image belongs to which class\n",
        "# format:\n",
        "#     image_name_1.jpg 2678\n",
        "#     image_name_2.jpg 2679\n",
        "f = open('./celebA_ir/celebA_anno_query.csv', 'r')\n",
        "query_lines = f.readlines()[1:]\n",
        "f.close()\n",
        "query_lines = [x.strip().split(',') for x in query_lines]\n",
        "# plain list of image names from query. Neede to compute embeddings for query\n",
        "query_img_names = [x[0] for x in query_lines]\n",
        "\n",
        "# dictionary with info of which images from query belong to which class\n",
        "# format:\n",
        "#     {class: [image_1, image_2, ...]}\n",
        "query_dict = defaultdict(list)\n",
        "for img_name, img_class in query_lines:\n",
        "  query_dict[img_class].append(img_name)\n",
        "\n",
        "# list of distractor images\n",
        "distractors_img_names = os.listdir('./celebA_ir/celebA_distractors')"
      ]
    },
    {
      "cell_type": "code",
      "source": [
        "query_dict;\n"
      ],
      "metadata": {
        "id": "fBW4_v0gDsBP"
      },
      "execution_count": null,
      "outputs": []
    },
    {
      "cell_type": "code",
      "source": [
        "im = FaceDataset.load_sample('./celebA_ir/celebA_query/001430.jpg')\n",
        "im = im.resize((RESCALE_SIZE, RESCALE_SIZE))\n",
        "im\n"
      ],
      "metadata": {
        "id": "4MBMdfVwD5nZ",
        "colab": {
          "base_uri": "https://localhost:8080/",
          "height": 241
        },
        "outputId": "a39ea782-83c2-48b7-c678-d3f9d80cc265"
      },
      "execution_count": null,
      "outputs": [
        {
          "output_type": "execute_result",
          "data": {
            "text/plain": [
              "<PIL.Image.Image image mode=RGB size=224x224>"
            ],
            "image/png": "[encoded data removed]"
          },
          "metadata": {},
          "execution_count": 55
        }
      ]
    },
    {
      "cell_type": "code",
      "source": [
        "imt = tt.Compose([tt.ToImage(), tt.ToDtype(torch.float32, scale=True)])(im)\n",
        "imt.shape"
      ],
      "metadata": {
        "id": "3yo4obuQFtEb",
        "colab": {
          "base_uri": "https://localhost:8080/"
        },
        "outputId": "6a5cd6ff-6d78-4c91-8366-9f42a1793573"
      },
      "execution_count": null,
      "outputs": [
        {
          "output_type": "execute_result",
          "data": {
            "text/plain": [
              "torch.Size([3, 224, 224])"
            ]
          },
          "metadata": {},
          "execution_count": 56
        }
      ]
    },
    {
      "cell_type": "code",
      "source": [
        "\n",
        "\n",
        "emb = model(imt.unsqueeze(0).to(DEVICE))\n",
        "emb.shape"
      ],
      "metadata": {
        "id": "QSJSNZdEGZk4",
        "colab": {
          "base_uri": "https://localhost:8080/"
        },
        "outputId": "8cf1e9eb-853d-44a7-cc14-49d9c9416195"
      },
      "execution_count": null,
      "outputs": [
        {
          "output_type": "execute_result",
          "data": {
            "text/plain": [
              "torch.Size([1, 512])"
            ]
          },
          "metadata": {},
          "execution_count": 57
        }
      ]
    },
    {
      "cell_type": "code",
      "source": [
        "sample.shape"
      ],
      "metadata": {
        "id": "5gfutDWeGdvp",
        "colab": {
          "base_uri": "https://localhost:8080/"
        },
        "outputId": "6c0a77f5-49b1-4a20-9d52-11b2b15b1eb4"
      },
      "execution_count": null,
      "outputs": [
        {
          "output_type": "execute_result",
          "data": {
            "text/plain": [
              "torch.Size([21, 3, 224, 224])"
            ]
          },
          "metadata": {},
          "execution_count": 58
        }
      ]
    },
    {
      "cell_type": "code",
      "execution_count": null,
      "metadata": {
        "id": "b1_DNpTC_lpQ"
      },
      "outputs": [],
      "source": [
        "def prepare(name):\n",
        "  im = FaceDataset.load_sample(name)\n",
        "  im = im.resize((RESCALE_SIZE, RESCALE_SIZE))\n",
        "  return tt.Compose([tt.ToImage(), tt.ToDtype(torch.float32, scale=True)])(im)\n",
        "\n",
        "\n",
        "def compute_embeddings(model, images_list, path):\n",
        "    '''\n",
        "    compute embeddings from the trained model for list of images.\n",
        "    params:\n",
        "    model: trained nn model that takes images and outputs embeddings\n",
        "    images_list: list of images paths to compute embeddings for\n",
        "    output:\n",
        "    list: list of model embeddings. Each embedding corresponds to images\n",
        "            names from images_list\n",
        "    '''\n",
        "    # YOUR CODE HERE\n",
        "    model.eval()\n",
        "    with torch.no_grad():\n",
        "      inp = torch.stack([prepare(path + name) for name in images_list])\n",
        "      loader = DataLoader(inp, batch_size=32)\n",
        "\n",
        "      ret = []\n",
        "      for sample in loader:\n",
        "        ret.append(model(sample.to(DEVICE)).cpu())\n",
        "    return torch.cat(ret)\n",
        "    # #   clear_cuda()\n",
        "    # return ret\n"
      ]
    },
    {
      "cell_type": "code",
      "source": [
        "clear_cuda()"
      ],
      "metadata": {
        "id": "JegQf7N6PYSE"
      },
      "execution_count": null,
      "outputs": []
    },
    {
      "cell_type": "code",
      "execution_count": null,
      "metadata": {
        "id": "AD2LXD87_jmR"
      },
      "outputs": [],
      "source": [
        "query_embeddings = compute_embeddings(model, query_img_names, '/content/celebA_ir/celebA_query/')\n",
        "clear_cuda()\n",
        "distractors_embeddings = compute_embeddings(model, distractors_img_names, '/content/celebA_ir/celebA_distractors/')"
      ]
    },
    {
      "cell_type": "code",
      "source": [
        "query_embeddings.shape, distractors_embeddings.shape"
      ],
      "metadata": {
        "id": "nLdI00dHQsh_",
        "colab": {
          "base_uri": "https://localhost:8080/"
        },
        "outputId": "eb666cc7-8359-4207-c3b4-598933a35602"
      },
      "execution_count": null,
      "outputs": [
        {
          "output_type": "execute_result",
          "data": {
            "text/plain": [
              "(torch.Size([1222, 512]), torch.Size([2001, 512]))"
            ]
          },
          "metadata": {},
          "execution_count": 62
        }
      ]
    },
    {
      "cell_type": "code",
      "execution_count": null,
      "metadata": {
        "id": "ksOfuF_C_fWI"
      },
      "outputs": [],
      "source": [
        "def compute_cosine_query_pos(query_dict, query_img_names, query_embeddings):\n",
        "  '''\n",
        "  compute cosine similarities between positive pairs from query (stage 1)\n",
        "  params:\n",
        "    query_dict: dict {class: [image_name_1, image_name_2, ...]}. Key: class in\n",
        "                the dataset. Value: images corresponding to that class\n",
        "    query_img_names: list of images names\n",
        "    query_embeddings: list of embeddings corresponding to query_img_names\n",
        "  output:\n",
        "    list of floats: similarities between embeddings corresponding\n",
        "                    to the same people from query list\n",
        "  '''\n",
        "  # YOUR CODE HERE\n",
        "  distances = []\n",
        "  labels = {l: k for k, v in query_dict.items() for l in v}\n",
        "  emb_dict = dict.fromkeys(query_dict.keys())\n",
        "  for l in emb_dict.keys():\n",
        "    emb_dict[l] = []\n",
        "  for name, emb in zip(query_img_names, query_embeddings):\n",
        "    emb_dict[labels[name]].append(emb)\n",
        "  for label, embs in emb_dict.items():\n",
        "    for i in range(len(embs)):\n",
        "      for j in range(i):\n",
        "        distances.append(distance(embs[i], embs[j]))\n",
        "\n",
        "\n",
        "  return torch.FloatTensor(distances)\n",
        "\n",
        "def compute_cosine_query_neg(query_dict, query_img_names, query_embeddings):\n",
        "  '''\n",
        "  compute cosine similarities between negative pairs from query (stage 2)\n",
        "  params:\n",
        "    query_dict: dict {class: [image_name_1, image_name_2, ...]}. Key: class in\n",
        "                the dataset. Value: images corresponding to that class\n",
        "    query_img_names: list of images names\n",
        "    query_embeddings: list of embeddings corresponding to query_img_names\n",
        "  output:\n",
        "    list of floats: similarities between embeddings corresponding\n",
        "                    to different people from query list\n",
        "  '''\n",
        "  # YOUR CODE HERE\n",
        "\n",
        "  distances = []\n",
        "  labels = {l: k for k, v in query_dict.items() for l in v}\n",
        "  emb_dict = dict.fromkeys(query_dict.keys(), )\n",
        "  for l in emb_dict.keys():\n",
        "    emb_dict[l] = []\n",
        "  for name, emb in zip(query_img_names, query_embeddings):\n",
        "    emb_dict[labels[name]].append(emb)\n",
        "\n",
        "\n",
        "\n",
        "\n",
        "  l_n = len(emb_dict)\n",
        "  keys = list(emb_dict.keys())\n",
        "  for i in range(l_n):\n",
        "    for j in range(i):\n",
        "      # print(keys[i], keys[j])\n",
        "      for k in emb_dict[keys[i]]:\n",
        "        for l in emb_dict[keys[j]]:\n",
        "          distances.append(distance(k, l))\n",
        "\n",
        "  return torch.FloatTensor(distances)\n",
        "\n",
        "def compute_cosine_query_distractors(query_embeddings, distractors_embeddings):\n",
        "  '''\n",
        "  compute cosine similarities between negative pairs from query and distractors\n",
        "  (stage 3)\n",
        "  params:\n",
        "    query_embeddings: list of embeddings corresponding to query_img_names\n",
        "    distractors_embeddings: list of embeddings corresponding to distractors_img_names\n",
        "  output:\n",
        "    list of floats: similarities between pairs of people (q, d), where q is\n",
        "                    embedding corresponding to photo from query, d —\n",
        "                    embedding corresponding to photo from distractors\n",
        "  '''\n",
        "  distances = []\n",
        "  for q in query_embeddings:\n",
        "    for d in distractors_embeddings:\n",
        "      distances.append(distance(q, d))\n",
        "  return torch.FloatTensor(distances)"
      ]
    },
    {
      "cell_type": "code",
      "execution_count": null,
      "metadata": {
        "id": "sL5eieLz_a6T"
      },
      "outputs": [],
      "source": [
        "\n",
        "cosine_query_pos = compute_cosine_query_pos(query_dict, query_img_names,\n",
        "                                            query_embeddings)\n",
        "cosine_query_neg = compute_cosine_query_neg(query_dict, query_img_names,\n",
        "                                            query_embeddings)\n",
        "cosine_query_distractors = compute_cosine_query_distractors(query_embeddings,\n",
        "                                                            distractors_embeddings)\n"
      ]
    },
    {
      "cell_type": "code",
      "source": [
        "(cosine_query_neg)"
      ],
      "metadata": {
        "id": "Qys0AL6Aut3i",
        "colab": {
          "base_uri": "https://localhost:8080/"
        },
        "outputId": "d0d7b04a-0e18-4ef8-a78a-1ac1dcb4fa88"
      },
      "execution_count": null,
      "outputs": [
        {
          "output_type": "execute_result",
          "data": {
            "text/plain": [
              "tensor([0.3378, 0.3625, 0.2646,  ..., 0.4058, 0.3745, 0.2816])"
            ]
          },
          "metadata": {},
          "execution_count": 65
        }
      ]
    },
    {
      "cell_type": "markdown",
      "metadata": {
        "id": "sYSlzv5s_0-F"
      },
      "source": [
        "Ячейка ниже проверяет, что код работает верно:"
      ]
    },
    {
      "cell_type": "code",
      "execution_count": null,
      "metadata": {
        "id": "OEFojrOY_44r"
      },
      "outputs": [],
      "source": [
        "\n",
        "test_query_dict = {\n",
        "    2876: ['1.jpg', '2.jpg', '3.jpg'],\n",
        "    5674: ['5.jpg'],\n",
        "    864:  ['9.jpg', '10.jpg'],\n",
        "}\n",
        "test_query_img_names = ['1.jpg', '2.jpg', '3.jpg', '5.jpg', '9.jpg', '10.jpg']\n",
        "test_query_embeddings = torch.FloatTensor([\n",
        "                    [1.56, 6.45,  -7.68],\n",
        "                    [-1.1 , 6.11,  -3.0],\n",
        "                    [-0.06,-0.98,-1.29],\n",
        "                    [8.56, 1.45,  1.11],\n",
        "                    [0.7,  1.1,   -7.56],\n",
        "                    [0.05, 0.9,   -2.56],\n",
        "])\n",
        "\n",
        "test_distractors_img_names = ['11.jpg', '12.jpg', '13.jpg', '14.jpg', '15.jpg']\n",
        "\n",
        "test_distractors_embeddings = torch.FloatTensor([\n",
        "                    [0.12, -3.23, -5.55],\n",
        "                    [-1,   -0.01, 1.22],\n",
        "                    [0.06, -0.23, 1.34],\n",
        "                    [-6.6, 1.45,  -1.45],\n",
        "                    [0.89,  1.98, 1.45],\n",
        "])\n",
        "\n",
        "test_cosine_query_pos = compute_cosine_query_pos(test_query_dict, test_query_img_names,\n",
        "                                            test_query_embeddings)\n",
        "test_cosine_query_neg = compute_cosine_query_neg(test_query_dict, test_query_img_names,\n",
        "                                            test_query_embeddings)\n",
        "test_cosine_query_distractors = compute_cosine_query_distractors(test_query_embeddings,\n",
        "                                                            test_distractors_embeddings)"
      ]
    },
    {
      "cell_type": "code",
      "execution_count": null,
      "metadata": {
        "id": "iQIyWXmE_5tS"
      },
      "outputs": [],
      "source": [
        "true_cosine_query_pos = [0.8678237233650096, 0.21226104378511604,\n",
        "                         -0.18355866977496182, 0.9787437979250561]\n",
        "assert np.allclose(sorted(test_cosine_query_pos), sorted(true_cosine_query_pos)), \\\n",
        "      \"A mistake in compute_cosine_query_pos function\"\n",
        "\n",
        "true_cosine_query_neg = [0.15963231223161822, 0.8507997093616965, 0.9272761484302097,\n",
        "                         -0.0643994061127092, 0.5412660901220571, 0.701307100338029,\n",
        "                         -0.2372575528216902, 0.6941032794522218, 0.549425446066643,\n",
        "                         -0.011982733001947084, -0.0466679194884999]\n",
        "assert np.allclose(sorted(test_cosine_query_neg), sorted(true_cosine_query_neg)), \\\n",
        "      \"A mistake in compute_cosine_query_neg function\"\n",
        "\n",
        "true_cosine_query_distractors = [0.3371426578637511, -0.6866465610863652, -0.8456563512871669,\n",
        "                                 0.14530087113136106, 0.11410510307646118, -0.07265097629002357,\n",
        "                                 -0.24097699660707042,-0.5851992679925766, 0.4295494455718534,\n",
        "                                 0.37604478596058194, 0.9909483738948858, -0.5881093317868022,\n",
        "                                 -0.6829712976642919, 0.07546364489032083, -0.9130970963915521,\n",
        "                                 -0.17463101988684684, -0.5229363015558941, 0.1399896725311533,\n",
        "                                 -0.9258034013399499, 0.5295114163723346, 0.7811585442749943,\n",
        "                                 -0.8208760031249596, -0.9905139680301821, 0.14969764653247228,\n",
        "                                 -0.40749654525418444, 0.648660814944824, -0.7432584300096284,\n",
        "                                 -0.9839696492435877, 0.2498741082804709, -0.2661183373780491]"
      ]
    },
    {
      "cell_type": "code",
      "source": [
        "\n",
        "assert np.allclose(sorted(test_cosine_query_distractors), sorted(true_cosine_query_distractors)), \\\n",
        "      \"A mistake in compute_cosine_query_distractors function\""
      ],
      "metadata": {
        "id": "gzvCnrm8qSao"
      },
      "execution_count": null,
      "outputs": []
    },
    {
      "cell_type": "markdown",
      "metadata": {
        "id": "HgfGS4PzBXog"
      },
      "source": [
        "И, наконец, финальная функция, которая считает IR metric:"
      ]
    },
    {
      "cell_type": "code",
      "execution_count": null,
      "metadata": {
        "id": "rJJ0ef6t_VLJ"
      },
      "outputs": [],
      "source": [
        "def compute_ir(cosine_query_pos, cosine_query_neg, cosine_query_distractors,\n",
        "               fpr=0.1):\n",
        "  '''\n",
        "  compute identification rate using precomputer cosine similarities between pairs\n",
        "  at given fpr\n",
        "  params:\n",
        "    cosine_query_pos: cosine similarities between positive pairs from query\n",
        "    cosine_query_neg: cosine similarities between negative pairs from query\n",
        "    cosine_query_distractors: cosine similarities between negative pairs\n",
        "                              from query and distractors\n",
        "    fpr: false positive rate at which to compute TPR\n",
        "  output:\n",
        "    float: threshold for given fpr\n",
        "    float: TPR at given FPR\n",
        "  '''\n",
        "  false_pair_amount = len(cosine_query_neg) + len(cosine_query_distractors)\n",
        "  N = int(fpr*false_pair_amount)\n",
        "  # print(f\"{N=}\")\n",
        "  false_pairs = torch.sort(\n",
        "      torch.cat(\n",
        "        (cosine_query_neg, cosine_query_distractors)\n",
        "      )\n",
        "      , descending=True\n",
        "    ).values\n",
        "\n",
        "  # print(false_pairs)\n",
        "  threshold = false_pairs[N]\n",
        "  # print(f\"{threshold=}\")\n",
        "  en = ((cosine_query_pos > threshold).sum())\n",
        "  acc = en/len(cosine_query_pos)\n",
        "  # print(acc)\n",
        "  # print()\n",
        "  return threshold, acc\n"
      ]
    },
    {
      "cell_type": "markdown",
      "metadata": {
        "id": "iZz8_1vbFtKE"
      },
      "source": [
        "И ячейки для ее проверки:"
      ]
    },
    {
      "cell_type": "code",
      "execution_count": null,
      "metadata": {
        "id": "DmwpM3FH_VpR"
      },
      "outputs": [],
      "source": [
        "test_thr = []\n",
        "test_tpr = []\n",
        "for fpr in [0.5, 0.3, 0.1]:\n",
        "  x, y = compute_ir(test_cosine_query_pos, test_cosine_query_neg,\n",
        "                    test_cosine_query_distractors, fpr=fpr)\n",
        "  test_thr.append(x)\n",
        "  test_tpr.append(y)"
      ]
    },
    {
      "cell_type": "code",
      "execution_count": null,
      "metadata": {
        "id": "nVYigU0jFvc9"
      },
      "outputs": [],
      "source": [
        "\n",
        "true_thr = [-0.011982733001947084, 0.3371426578637511, 0.701307100338029]\n",
        "assert np.allclose(np.array(test_thr), np.array(true_thr)), \"A mistake in computing threshold\"\n",
        "\n",
        "true_tpr = [0.75, 0.5, 0.5]\n",
        "assert np.allclose(np.array(test_tpr), np.array(true_tpr)), \"A mistake in computing tpr\""
      ]
    },
    {
      "cell_type": "markdown",
      "metadata": {
        "id": "ksuMMLQOFxJ1"
      },
      "source": [
        "А в ячейке ниже вы можете посчитать TPR@FPR для датасета с лицами. Давайте, например, посчитаем для значений fpr = [0.5, 0.2, 0.1, 0.05]."
      ]
    },
    {
      "cell_type": "code",
      "execution_count": null,
      "metadata": {
        "id": "QhMhAza2GDL_"
      },
      "outputs": [],
      "source": [
        "res = []\n",
        "for fpr in [0.5, 0.2, 0.1, 0.05]:\n",
        "  res.append(compute_ir(cosine_query_pos, cosine_query_neg, cosine_query_distractors, fpr))\n"
      ]
    },
    {
      "cell_type": "code",
      "source": [
        "for (tr, idm), fpr in zip(res, [0.5, 0.2, 0.1, 0.05]):\n",
        "  print(f\"@fpr = {fpr}:  {idm}\")"
      ],
      "metadata": {
        "id": "lNW-Iefuzc0e",
        "colab": {
          "base_uri": "https://localhost:8080/"
        },
        "outputId": "8a927593-f776-4b13-b3be-0a577a4f8af4"
      },
      "execution_count": null,
      "outputs": [
        {
          "output_type": "stream",
          "name": "stdout",
          "text": [
            "@fpr = 0.5:  0.8250797986984253\n",
            "@fpr = 0.2:  0.5538346767425537\n",
            "@fpr = 0.1:  0.39263635873794556\n",
            "@fpr = 0.05:  0.2707696557044983\n"
          ]
        }
      ]
    },
    {
      "cell_type": "markdown",
      "source": [
        "##Оценим модель обученную на CE"
      ],
      "metadata": {
        "id": "6Wnw-dbOuhmX"
      }
    },
    {
      "cell_type": "code",
      "source": [],
      "metadata": {
        "id": "Nauk8SGQuhh7"
      },
      "execution_count": null,
      "outputs": []
    },
    {
      "cell_type": "code",
      "execution_count": null,
      "metadata": {
        "id": "obUR3QqWuxjM"
      },
      "outputs": [],
      "source": [
        "# modelResNet = resnet18(ResNet18_Weights.IMAGENET1K_V1)\n",
        "modelResNet = torch.load('/content/drive/MyDrive/DLS project/modelResnet.pth')"
      ]
    },
    {
      "cell_type": "code",
      "execution_count": null,
      "metadata": {
        "colab": {
          "base_uri": "https://localhost:8080/"
        },
        "outputId": "824793af-00e8-4255-bd5f-0be3a7c5d0f5",
        "id": "9SZuhCxJuxjM"
      },
      "outputs": [
        {
          "output_type": "execute_result",
          "data": {
            "text/plain": [
              "0.7293895483016968"
            ]
          },
          "metadata": {},
          "execution_count": 76
        }
      ],
      "source": [
        "modelResNet.eval()\n",
        "evaluate(modelResNet, test_loader)"
      ]
    },
    {
      "cell_type": "code",
      "source": [
        "modelResNet.fc = IdBlock()"
      ],
      "metadata": {
        "id": "ZpasLrszu0xS"
      },
      "execution_count": null,
      "outputs": []
    },
    {
      "cell_type": "code",
      "source": [
        "clear_cuda()"
      ],
      "metadata": {
        "id": "KVnUN57fuoGK"
      },
      "execution_count": null,
      "outputs": []
    },
    {
      "cell_type": "code",
      "execution_count": null,
      "metadata": {
        "id": "4Hq6QHPouoGQ"
      },
      "outputs": [],
      "source": [
        "query_embeddings = compute_embeddings(modelResNet, query_img_names, '/content/celebA_ir/celebA_query/')\n",
        "clear_cuda()\n",
        "distractors_embeddings = compute_embeddings(modelResNet, distractors_img_names, '/content/celebA_ir/celebA_distractors/')"
      ]
    },
    {
      "cell_type": "code",
      "source": [
        "query_embeddings.shape, distractors_embeddings.shape"
      ],
      "metadata": {
        "colab": {
          "base_uri": "https://localhost:8080/"
        },
        "outputId": "be0e21ec-0f87-4dbe-b056-287827432760",
        "id": "7Htmjx9_uoGQ"
      },
      "execution_count": null,
      "outputs": [
        {
          "output_type": "execute_result",
          "data": {
            "text/plain": [
              "(torch.Size([1222, 512]), torch.Size([2001, 512]))"
            ]
          },
          "metadata": {},
          "execution_count": 81
        }
      ]
    },
    {
      "cell_type": "code",
      "source": [
        "\n",
        "cosine_query_pos = compute_cosine_query_pos(query_dict, query_img_names,\n",
        "                                            query_embeddings)\n",
        "cosine_query_neg = compute_cosine_query_neg(query_dict, query_img_names,\n",
        "                                            query_embeddings)\n",
        "cosine_query_distractors = compute_cosine_query_distractors(query_embeddings,\n",
        "                                                            distractors_embeddings)\n"
      ],
      "metadata": {
        "id": "8TNl_yZTuhdV"
      },
      "execution_count": null,
      "outputs": []
    },
    {
      "cell_type": "code",
      "source": [
        "resCE = []\n",
        "for fpr in [0.5, 0.2, 0.1, 0.05]:\n",
        "  resCE.append(compute_ir(cosine_query_pos, cosine_query_neg, cosine_query_distractors, fpr))\n"
      ],
      "metadata": {
        "id": "VPPEO-NAug_H"
      },
      "execution_count": null,
      "outputs": []
    },
    {
      "cell_type": "code",
      "source": [
        "for (tr, idm), fpr in zip(resCE, [0.5, 0.2, 0.1, 0.05]):\n",
        "  print(f\"@fpr = {fpr}:  {idm}\")"
      ],
      "metadata": {
        "colab": {
          "base_uri": "https://localhost:8080/"
        },
        "id": "7DbwGM8_v1xv",
        "outputId": "1cad4e3d-6e9f-48f0-fb64-4afe3696aef7"
      },
      "execution_count": null,
      "outputs": [
        {
          "output_type": "stream",
          "name": "stdout",
          "text": [
            "@fpr = 0.5:  0.7443788051605225\n",
            "@fpr = 0.2:  0.478771835565567\n",
            "@fpr = 0.1:  0.34155288338661194\n",
            "@fpr = 0.05:  0.24162760376930237\n"
          ]
        }
      ]
    },
    {
      "cell_type": "markdown",
      "source": [
        "##Сравним качество эмбедингов специализированной и обычной моделями\n",
        "\n"
      ],
      "metadata": {
        "id": "5NqT_2kJvpYh"
      }
    },
    {
      "cell_type": "code",
      "source": [
        "for (tr, idm), (trCE, idmCE), fpr in zip(res, resCE, [0.5, 0.2, 0.1, 0.05]):\n",
        "  print(f\"@fpr = {fpr}:  {idm} ||| {idmCE}\")"
      ],
      "metadata": {
        "colab": {
          "base_uri": "https://localhost:8080/"
        },
        "id": "p_N6I9AewBaV",
        "outputId": "37e4f7d4-e4ed-414a-8480-58e6f1c56eff"
      },
      "execution_count": null,
      "outputs": [
        {
          "output_type": "stream",
          "name": "stdout",
          "text": [
            "@fpr = 0.5:  0.8250797986984253 ||| 0.7443788051605225\n",
            "@fpr = 0.2:  0.5538346767425537 ||| 0.478771835565567\n",
            "@fpr = 0.1:  0.39263635873794556 ||| 0.34155288338661194\n",
            "@fpr = 0.05:  0.2707696557044983 ||| 0.24162760376930237\n"
          ]
        }
      ]
    },
    {
      "cell_type": "markdown",
      "source": [
        "##Видим, что модель обученная на специализированный лосс представляет изображения лучше"
      ],
      "metadata": {
        "id": "fA2p9s1PwXSA"
      }
    },
    {
      "cell_type": "markdown",
      "source": [
        "#Ниже можно не смотреть"
      ],
      "metadata": {
        "id": "vmANojgKwwJ5"
      }
    },
    {
      "cell_type": "markdown",
      "source": [
        "#triple loss"
      ],
      "metadata": {
        "id": "mNxyqY-dukXP"
      }
    },
    {
      "cell_type": "code",
      "source": [],
      "metadata": {
        "id": "rAfyl3n6voMt"
      },
      "execution_count": null,
      "outputs": []
    },
    {
      "cell_type": "code",
      "source": [
        "class TripletLoss(nn.Module):\n",
        "    def __init__(self, m = 0, distance = None):\n",
        "        super().__init__()\n",
        "        self.m = m\n",
        "        if distance is None:\n",
        "            self.distance = torch.nn.CosineSimilarity(dim=1, eps=1e-08)\n",
        "        else:\n",
        "            self.distance = distance\n",
        "    def forward(self, anchor, positive, negative):\n",
        "\n",
        "        return nn.ReLU()(self.distance(anchor.norm(dim=1), positive.norm(dim=1)) - self.distance(anchor.norm(dim=1), negative.norm(dim=1)) + self.m)"
      ],
      "metadata": {
        "id": "nWU6ROPT0Kw8"
      },
      "execution_count": null,
      "outputs": []
    },
    {
      "cell_type": "code",
      "source": [
        "distance = torch.nn.CosineSimilarity(dim=1, eps=1e-08)\n"
      ],
      "metadata": {
        "id": "J17BpXipu-u6"
      },
      "execution_count": null,
      "outputs": []
    },
    {
      "cell_type": "code",
      "source": [
        "a = torch.FloatTensor([[0, 1, 1], [0, 1, 1]])\n",
        "b = torch.FloatTensor([[0, 2, 1], [0, 2, 2]])\n",
        "distance(a, b)"
      ],
      "metadata": {
        "id": "j_eBFeB2uljO"
      },
      "execution_count": null,
      "outputs": []
    },
    {
      "cell_type": "code",
      "source": [],
      "metadata": {
        "id": "zAsug1afulc-"
      },
      "execution_count": null,
      "outputs": []
    },
    {
      "cell_type": "code",
      "execution_count": null,
      "metadata": {
        "id": "os1v9s8wyGce"
      },
      "outputs": [],
      "source": [
        "model = resnet34(ResNet34_Weights.IMAGENET1K_V1)\n",
        "model;"
      ]
    },
    {
      "cell_type": "code",
      "execution_count": null,
      "metadata": {
        "id": "j4_iSxcVyGc0"
      },
      "outputs": [],
      "source": [
        "class IdBlock(nn.Module):\n",
        "  def __init__(self):\n",
        "    super().__init__()\n",
        "  def forward(self, x):\n",
        "    return x"
      ]
    },
    {
      "cell_type": "code",
      "execution_count": null,
      "metadata": {
        "id": "PnXKkQ3gyGc0"
      },
      "outputs": [],
      "source": [
        "model.fc = IdBlock()\n",
        "model(sample).shape"
      ]
    },
    {
      "cell_type": "code",
      "source": [
        "pred = []\n",
        "k = 0\n",
        "for i, label in train_loader:\n",
        "    pred.append(model(i))\n",
        "    k += 1\n",
        "    if k == 3:\n",
        "        break\n"
      ],
      "metadata": {
        "id": "dKf_3IgMulWo"
      },
      "execution_count": null,
      "outputs": []
    },
    {
      "cell_type": "code",
      "source": [
        "len(pred)"
      ],
      "metadata": {
        "id": "YrVbufv212y5"
      },
      "execution_count": null,
      "outputs": []
    },
    {
      "cell_type": "code",
      "source": [
        "l = TripletLoss()(*pred)\n",
        "l"
      ],
      "metadata": {
        "id": "Q5YWFVlczRmV"
      },
      "execution_count": null,
      "outputs": []
    },
    {
      "cell_type": "code",
      "source": [],
      "metadata": {
        "id": "ejclQcr9zLP6"
      },
      "execution_count": null,
      "outputs": []
    },
    {
      "cell_type": "code",
      "source": [],
      "metadata": {
        "id": "5g_5G3YdulPG"
      },
      "execution_count": null,
      "outputs": []
    },
    {
      "cell_type": "code",
      "source": [],
      "metadata": {
        "id": "ktG2iobbulIn"
      },
      "execution_count": null,
      "outputs": []
    },
    {
      "cell_type": "code",
      "source": [],
      "metadata": {
        "id": "-s1hLKpeulAP"
      },
      "execution_count": null,
      "outputs": []
    },
    {
      "cell_type": "code",
      "source": [],
      "metadata": {
        "id": "FSZk44emujxU"
      },
      "execution_count": null,
      "outputs": []
    },
    {
      "cell_type": "code",
      "source": [],
      "metadata": {
        "id": "ptuqNqNuujnE"
      },
      "execution_count": null,
      "outputs": []
    },
    {
      "cell_type": "code",
      "source": [],
      "metadata": {
        "id": "Bde3_AHIujeK"
      },
      "execution_count": null,
      "outputs": []
    },
    {
      "cell_type": "code",
      "source": [],
      "metadata": {
        "id": "tcqf0cxeui7Z"
      },
      "execution_count": null,
      "outputs": []
    },
    {
      "cell_type": "markdown",
      "metadata": {
        "id": "v3TxI-xJ7vrz"
      },
      "source": [
        "\n",
        "# Effnet -- не подошло"
      ]
    },
    {
      "cell_type": "code",
      "source": [],
      "metadata": {
        "id": "9JTjs5xnuh6h"
      },
      "execution_count": null,
      "outputs": []
    },
    {
      "cell_type": "code",
      "execution_count": null,
      "metadata": {
        "id": "hFsCHAcZM0R0"
      },
      "outputs": [],
      "source": [
        "\n",
        "\n",
        "# modelResNet = resnet18(weights=ResNet18_Weights.IMAGENET1K_V1)\n",
        "# modelResNet\n",
        "\n",
        "modelEff = efficientnet_b3(weights=EfficientNet_B3_Weights)\n",
        "modelEff"
      ]
    },
    {
      "cell_type": "code",
      "execution_count": null,
      "metadata": {
        "id": "wb6i-YuNwjUu"
      },
      "outputs": [],
      "source": [
        "prev_in = modelEff.classifier[1].in_features\n",
        "prev_in"
      ]
    },
    {
      "cell_type": "code",
      "execution_count": null,
      "metadata": {
        "id": "RLwNRl59wjUu"
      },
      "outputs": [],
      "source": [
        "modelEff.classifier =  nn.Sequential(\n",
        "    nn.Linear(prev_in, 512),\n",
        "    nn.BatchNorm1d(512),\n",
        "    nn.SiLU(),\n",
        "    nn.Linear(512, 500)\n",
        ")\n",
        "modelEff.classifier"
      ]
    },
    {
      "cell_type": "code",
      "execution_count": null,
      "metadata": {
        "id": "bj6vNPBNdKm2"
      },
      "outputs": [],
      "source": [
        "modelEff.classifier"
      ]
    },
    {
      "cell_type": "code",
      "execution_count": null,
      "metadata": {
        "id": "-JHuZnInAsDM"
      },
      "outputs": [],
      "source": [
        "import gc\n",
        "torch.cuda.empty_cache()\n",
        "torch.cuda.memory_summary(device=None, abbreviated=False)\n",
        "# del unet_model\n",
        "\n",
        "# del variables\n",
        "gc.collect()"
      ]
    },
    {
      "cell_type": "code",
      "source": [
        "def clear_cuda():\n",
        "  torch.cuda.empty_cache()\n",
        "  torch.cuda.memory_summary(device=None, abbreviated=False)\n",
        "  # del unet_model\n",
        "\n",
        "  # del variables\n",
        "  gc.collect()"
      ],
      "metadata": {
        "id": "0k5jwGNYOoow"
      },
      "execution_count": null,
      "outputs": []
    },
    {
      "cell_type": "code",
      "execution_count": null,
      "metadata": {
        "id": "i9wyWR5NFZ6r"
      },
      "outputs": [],
      "source": [
        "DEVICE"
      ]
    },
    {
      "cell_type": "code",
      "execution_count": null,
      "metadata": {
        "id": "s8bJHJ7MDCyt"
      },
      "outputs": [],
      "source": [
        "a = torch.FloatTensor([1, 0, 0])\n",
        "b = torch.FloatTensor([0.7, 0.1, 0.2])\n",
        "nn.CrossEntropyLoss()(a, b)"
      ]
    },
    {
      "cell_type": "code",
      "execution_count": null,
      "metadata": {
        "id": "IWrE_19ucqFg"
      },
      "outputs": [],
      "source": [
        "effhist = train_w_freezed(modelEff, train_dataset, val_dataset, unfreezed_nm=10, epochs=2)"
      ]
    },
    {
      "cell_type": "code",
      "execution_count": null,
      "metadata": {
        "id": "quVe1MJ2ArDR"
      },
      "outputs": [],
      "source": []
    },
    {
      "cell_type": "code",
      "execution_count": null,
      "metadata": {
        "id": "yAw64dk-cqvR"
      },
      "outputs": [],
      "source": [
        "effhist1 = train_w_freezed(modelEff, train_dataset, val_dataset, 300)"
      ]
    },
    {
      "cell_type": "code",
      "execution_count": null,
      "metadata": {
        "id": "Apw-nLwEcqzf"
      },
      "outputs": [],
      "source": [
        "effhist3 = train_w_freezed(modelEff, train_dataset, val_dataset, 300, epochs=20)"
      ]
    },
    {
      "cell_type": "code",
      "execution_count": null,
      "metadata": {
        "id": "mnTu1Zi5cq3r"
      },
      "outputs": [],
      "source": [
        "torch.save(modelEff, f'effnet')"
      ]
    },
    {
      "cell_type": "code",
      "execution_count": null,
      "metadata": {
        "id": "-aX3iP5h3hRM"
      },
      "outputs": [],
      "source": [
        "evaluate(modelEff, test_loader)"
      ]
    },
    {
      "cell_type": "code",
      "execution_count": null,
      "metadata": {
        "id": "8O-p-7eHdjiX"
      },
      "outputs": [],
      "source": []
    },
    {
      "cell_type": "code",
      "execution_count": null,
      "metadata": {
        "id": "km7FoDCwdjd8"
      },
      "outputs": [],
      "source": []
    },
    {
      "cell_type": "markdown",
      "metadata": {
        "id": "_OcAyMnc72Wm"
      },
      "source": [
        "# Resnet -- получилось"
      ]
    },
    {
      "cell_type": "code",
      "execution_count": null,
      "metadata": {
        "id": "A_nwGyC0djZQ"
      },
      "outputs": [],
      "source": [
        "modelResNet1 = resnet18(ResNet18_Weights.IMAGENET1K_V1)\n",
        "modelResNet1;"
      ]
    },
    {
      "cell_type": "code",
      "execution_count": null,
      "metadata": {
        "id": "gxS7gJBmGaGz"
      },
      "outputs": [],
      "source": [
        "class IdBlock(nn.Module):\n",
        "  def __init__(self):\n",
        "    super().__init__()\n",
        "  def forward(self, x):\n",
        "    return x"
      ]
    },
    {
      "cell_type": "code",
      "execution_count": null,
      "metadata": {
        "id": "JgpjuGmhdi8k"
      },
      "outputs": [],
      "source": [
        "# modelResNet = resnet18(ResNet18_Weights.IMAGENET1K_V1)\n",
        "modelResNet = torch.load('/content/drive/MyDrive/DLS project/modelResnet.pth')"
      ]
    },
    {
      "cell_type": "code",
      "execution_count": null,
      "metadata": {
        "id": "ri826KWV6i4Y"
      },
      "outputs": [],
      "source": [
        "modelResNet.eval()\n",
        "evaluate(modelResNet, test_loader)"
      ]
    },
    {
      "cell_type": "code",
      "execution_count": null,
      "metadata": {
        "id": "DUSkCkiCiHYm"
      },
      "outputs": [],
      "source": [
        "blocks = [i[0] for i in modelResNet.named_children()]\n",
        "blocks"
      ]
    },
    {
      "cell_type": "code",
      "execution_count": null,
      "metadata": {
        "id": "Shk0gvoQi7OW"
      },
      "outputs": [],
      "source": [
        "modelResNet.fc = nn.Sequential(\n",
        "    nn.Linear(512, 512)\n",
        "    , nn.ReLU()\n",
        "    , nn.Linear(512, 500)\n",
        ")"
      ]
    },
    {
      "cell_type": "code",
      "execution_count": null,
      "metadata": {
        "id": "ZgQduQZBDn2h"
      },
      "outputs": [],
      "source": [
        "def fit_epoch(model, train_loader, criterion, optimizer):\n",
        "    running_loss = 0.0\n",
        "    running_corrects = 0\n",
        "    processed_data = 0\n",
        "    model.train()\n",
        "\n",
        "    for inputs, labels in train_loader:\n",
        "        inputs = inputs.to(DEVICE)\n",
        "        labels = labels.to(DEVICE)\n",
        "        optimizer.zero_grad()\n",
        "        outputs = model(inputs)\n",
        "        loss = criterion(outputs, labels)\n",
        "        loss.backward()\n",
        "        optimizer.step()\n",
        "        preds = torch.argmax(outputs, 1)\n",
        "        running_loss += loss.item() * inputs.size(0)\n",
        "        running_corrects += torch.sum(preds == labels.data)\n",
        "        processed_data += inputs.size(0)\n",
        "\n",
        "    train_loss = running_loss / processed_data\n",
        "    train_acc = running_corrects.cpu().numpy() / processed_data\n",
        "    return train_loss, train_acc\n",
        "\n",
        "def eval_epoch(model, val_loader, criterion):\n",
        "    model.eval()\n",
        "    running_loss = 0.0\n",
        "    running_corrects = 0\n",
        "    processed_size = 0\n",
        "\n",
        "    for inputs, labels in val_loader:\n",
        "        inputs = inputs.to(DEVICE)\n",
        "        labels = labels.to(DEVICE)\n",
        "\n",
        "        with torch.set_grad_enabled(False):\n",
        "            outputs = model(inputs)\n",
        "            loss = criterion(outputs, labels)\n",
        "            preds = torch.argmax(outputs, 1)\n",
        "\n",
        "        running_loss += loss.item() * inputs.size(0)\n",
        "        running_corrects += torch.sum(preds == labels.data)\n",
        "        processed_size += inputs.size(0)\n",
        "    val_loss = running_loss / processed_size\n",
        "    val_acc = running_corrects.double().cpu().numpy() / processed_size\n",
        "    return val_loss, val_acc\n"
      ]
    },
    {
      "cell_type": "code",
      "execution_count": null,
      "metadata": {
        "id": "2F8Vrnbxi7TC"
      },
      "outputs": [],
      "source": [
        "# opt = torch.optim.Adam(\n",
        "#         params=[\n",
        "#             {\"params\": modelResNet.layer4.parameters(), 'lr': 1e-4},\n",
        "#             {\"params\": modelResNet.fc.parameters(), \"lr\": 1e-4}\n",
        "#         ])\n",
        "hist = train(train_loader, val_loader, modelResNet, epochs=10, batch_size=32, opt=opt)"
      ]
    },
    {
      "cell_type": "code",
      "execution_count": null,
      "metadata": {
        "id": "g2ks-xRzl8LN"
      },
      "outputs": [],
      "source": [
        "loss, acc, val_loss, val_acc = zip(*hist)"
      ]
    },
    {
      "cell_type": "code",
      "execution_count": null,
      "metadata": {
        "id": "9zqyD42hxDgK"
      },
      "outputs": [],
      "source": [
        "plt.figure(figsize=(15, 9))\n",
        "plt.subplot(2, 1, 1)\n",
        "plt.plot(loss, label=\"train_loss\")\n",
        "plt.plot(val_loss, label=\"val_loss\")\n",
        "plt.legend(loc='best')\n",
        "plt.xlabel(\"epochs\")\n",
        "plt.ylabel(\"loss\")\n",
        "plt.subplot(2, 1, 2)\n",
        "plt.plot(acc, label=\"train_acc\")\n",
        "plt.plot(val_acc, label=\"val_acc\")\n",
        "plt.legend(loc='best')\n",
        "plt.xlabel(\"epochs\")\n",
        "plt.ylabel(\"accuracy\")\n",
        "plt.show()"
      ]
    },
    {
      "cell_type": "code",
      "execution_count": null,
      "metadata": {
        "id": "iSr6GqF7hF19"
      },
      "outputs": [],
      "source": [
        "print(count_graded(modelResNet))\n",
        "modelResNet.eval()\n",
        "print(evaluate(modelResNet, test_loader))\n",
        "print(evaluate(modelResNet, train_loader))"
      ]
    },
    {
      "cell_type": "code",
      "execution_count": null,
      "metadata": {
        "id": "NTALitUahFxl"
      },
      "outputs": [],
      "source": [
        "opt1 = freeze_blocks(modelResNet, 4, blocks)\n",
        "\n",
        "count_graded(modelResNet)"
      ]
    },
    {
      "cell_type": "code",
      "execution_count": null,
      "metadata": {
        "id": "aKXaW3C-hFsT"
      },
      "outputs": [],
      "source": [
        "hist1 = train(train_loader, val_loader, modelResNet, epochs=10, batch_size=32, opt=opt1)"
      ]
    },
    {
      "cell_type": "code",
      "execution_count": null,
      "metadata": {
        "id": "_SAsLKb3hFnT"
      },
      "outputs": [],
      "source": [
        "opt2 = freeze_blocks(modelResNet, 7, blocks)\n",
        "\n",
        "count_graded(modelResNet)\n",
        "\n",
        "hist2 = train(train_loader, val_loader, modelResNet, epochs=10, batch_size=32, opt=opt2)"
      ]
    },
    {
      "cell_type": "code",
      "execution_count": null,
      "metadata": {
        "id": "w2hFxar2rLp6"
      },
      "outputs": [],
      "source": [
        "opt3 = freeze_blocks(modelResNet, 8, blocks)\n",
        "\n",
        "count_graded(modelResNet)\n",
        "\n",
        "hist3 = train(train_loader, val_loader, modelResNet, epochs=5, batch_size=32, opt=opt3)"
      ]
    },
    {
      "cell_type": "code",
      "execution_count": null,
      "metadata": {
        "id": "ZQ8vny6YrINo"
      },
      "outputs": [],
      "source": [
        "opt4 = freeze_blocks(modelResNet, 9, blocks)\n",
        "\n",
        "count_graded(modelResNet)\n",
        "\n",
        "hist4 = train(train_loader, val_loader, modelResNet, epochs=5, batch_size=32, opt=opt4)"
      ]
    },
    {
      "cell_type": "code",
      "execution_count": null,
      "metadata": {
        "id": "8oVeY-5h07LE"
      },
      "outputs": [],
      "source": [
        "opt5 = freeze_blocks(modelResNet, 9, blocks)\n",
        "\n",
        "count_graded(modelResNet)\n",
        "\n",
        "hist5 = train(train_loader, val_loader, modelResNet, epochs=10, batch_size=32, opt=opt5)"
      ]
    },
    {
      "cell_type": "code",
      "execution_count": null,
      "metadata": {
        "id": "uNcJR2u35ZS1"
      },
      "outputs": [],
      "source": [
        "train_transform = tt.Compose([\n",
        "    # EfficientNet_B3_Weights.IMAGENET1K_V1.transforms(),\n",
        "    res_transform(),\n",
        "    tt.RandomHorizontalFlip(p=0.5),\n",
        "    # tt.RandomPerspective(distortion_scale=0.5, p=0.3,)\n",
        "])\n",
        "test_transform = res_transform()"
      ]
    },
    {
      "cell_type": "code",
      "execution_count": null,
      "metadata": {
        "id": "UUz0gH5i5ZS8"
      },
      "outputs": [],
      "source": [
        "\n",
        "train_dataset = FaceDataset(train_data, mode='train', transform=train_transform)\n",
        "val_dataset = FaceDataset(val_data, mode='val', transform=test_transform)\n",
        "test_dataset = FaceDataset(test_data, mode='test', transform=test_transform)\n",
        "\n",
        "train_loader = DataLoader(train_dataset, batch_size=BATCH_SIZE, shuffle=True)\n",
        "val_loader = DataLoader(val_dataset, batch_size=BATCH_SIZE, shuffle=True)\n",
        "test_loader = DataLoader(test_dataset, batch_size=BATCH_SIZE, shuffle=True)"
      ]
    },
    {
      "cell_type": "code",
      "execution_count": null,
      "metadata": {
        "id": "hbNvHcDf07zP"
      },
      "outputs": [],
      "source": [
        "opt6 = freeze_blocks(modelResNet, 9, blocks)\n",
        "\n",
        "count_graded(modelResNet)\n",
        "\n",
        "hist6 = train(train_loader, val_loader, modelResNet, epochs=5, batch_size=32, opt=opt6)"
      ]
    },
    {
      "cell_type": "code",
      "execution_count": null,
      "metadata": {
        "id": "OuCc-ZsH07m1"
      },
      "outputs": [],
      "source": [
        "hist7 = train(train_loader, val_loader, modelResNet, epochs=5, batch_size=32, opt=opt6)"
      ]
    },
    {
      "cell_type": "code",
      "execution_count": null,
      "metadata": {
        "id": "gW9RbreDhFct"
      },
      "outputs": [],
      "source": [
        "opt6 = freeze_blocks(modelResNet, 9, blocks, lr=1e-5)\n",
        "\n",
        "count_graded(modelResNet)\n",
        "\n",
        "hist6 = train(train_loader, val_loader, modelResNet, epochs=5, batch_size=32, opt=opt6)"
      ]
    },
    {
      "cell_type": "code",
      "execution_count": null,
      "metadata": {
        "id": "KPd5be7l_irQ"
      },
      "outputs": [],
      "source": [
        "opt6 = freeze_blocks(modelResNet, 8, blocks, lr=1e-5)\n",
        "\n",
        "count_graded(modelResNet)\n",
        "\n",
        "hist6 = train(train_loader, val_loader, modelResNet, epochs=5, batch_size=32, opt=opt6)"
      ]
    },
    {
      "cell_type": "code",
      "source": [
        "# modelResNet = torch.load(\"./modelResnet.pth\")"
      ],
      "metadata": {
        "id": "ALCoXzJj4BEL"
      },
      "execution_count": null,
      "outputs": []
    },
    {
      "cell_type": "code",
      "execution_count": null,
      "metadata": {
        "id": "wiZhPaMDBthF"
      },
      "outputs": [],
      "source": [
        "evaluate(modelResNet, test_loader)"
      ]
    },
    {
      "cell_type": "code",
      "execution_count": null,
      "metadata": {
        "id": "AGjge2OtFrUE"
      },
      "outputs": [],
      "source": [
        "torch.save(modelResNet, \"/content/drive/MyDrive/DLS project/modelResnet.pth\")"
      ]
    },
    {
      "cell_type": "markdown",
      "metadata": {
        "id": "jdwZQtD37_Fs"
      },
      "source": [
        "# Embedings"
      ]
    },
    {
      "cell_type": "code",
      "execution_count": null,
      "metadata": {
        "id": "_RMDS1eDLcix"
      },
      "outputs": [],
      "source": [
        "class Identity(nn.Module):\n",
        "    def __init__(self):\n",
        "        super(Identity, self).__init__()\n",
        "\n",
        "    def forward(self, x):\n",
        "        return x"
      ]
    },
    {
      "cell_type": "code",
      "execution_count": null,
      "metadata": {
        "id": "ooja_T6KLdMT"
      },
      "outputs": [],
      "source": []
    },
    {
      "cell_type": "code",
      "execution_count": null,
      "metadata": {
        "id": "A-CrU_OtLdRh"
      },
      "outputs": [],
      "source": [
        "import copy\n",
        "model_copy = copy.deepcopy(modelResNet)"
      ]
    },
    {
      "cell_type": "code",
      "execution_count": null,
      "metadata": {
        "id": "h8yoEJYZLdWF"
      },
      "outputs": [],
      "source": [
        "model_copy.fc = Identity()"
      ]
    },
    {
      "cell_type": "code",
      "execution_count": null,
      "metadata": {
        "id": "boGgZswRM1XS"
      },
      "outputs": [],
      "source": [
        "model_copy(sample.to(DEVICE)).shape"
      ]
    },
    {
      "cell_type": "code",
      "execution_count": null,
      "metadata": {
        "id": "JE9WfLFeMwxr"
      },
      "outputs": [],
      "source": [
        "len(test_dataset), (test_dataset[0][0]).shape"
      ]
    },
    {
      "cell_type": "code",
      "execution_count": null,
      "metadata": {
        "id": "Y8GNt5dZU5Ca"
      },
      "outputs": [],
      "source": [
        "d = [i.item() for i in torch.randint(500, (20, ))]\n",
        "d"
      ]
    },
    {
      "cell_type": "code",
      "execution_count": null,
      "metadata": {
        "id": "jTI_s3xyMw5u"
      },
      "outputs": [],
      "source": [
        "samples = []\n",
        "instances = {l:None for l in d}\n",
        "labels = []\n",
        "for i, l in train_dataset:\n",
        "    if l in d:\n",
        "        samples.append(i)\n",
        "        labels.append(l)\n",
        "        instances[l] = i\n",
        "samples = torch.stack(samples)\n",
        "preds = model_copy(samples.to(DEVICE)).detach().cpu()"
      ]
    },
    {
      "cell_type": "code",
      "execution_count": null,
      "metadata": {
        "id": "p6owumXJXrIQ"
      },
      "outputs": [],
      "source": [
        "labels = torch.Tensor(labels)"
      ]
    },
    {
      "cell_type": "code",
      "execution_count": null,
      "metadata": {
        "id": "dCEBzWTuXW1s"
      },
      "outputs": [],
      "source": [
        "preds.shape, labels.shape"
      ]
    },
    {
      "cell_type": "code",
      "execution_count": null,
      "metadata": {
        "id": "MY8LYJS9Mw9y"
      },
      "outputs": [],
      "source": [
        "from sklearn.manifold import TSNE\n",
        "\n",
        "t = TSNE(2)"
      ]
    },
    {
      "cell_type": "code",
      "execution_count": null,
      "metadata": {
        "id": "xECGZo0xUXCh"
      },
      "outputs": [],
      "source": [
        "preds = preds.numpy()\n",
        "labels = labels.numpy()\n",
        "preds.shape, labels.shape"
      ]
    },
    {
      "cell_type": "code",
      "execution_count": null,
      "metadata": {
        "id": "HkOhKE7oVxOc"
      },
      "outputs": [],
      "source": [
        "k = 365\n",
        "preds[:k].shape, labels[:k].shape"
      ]
    },
    {
      "cell_type": "code",
      "execution_count": null,
      "metadata": {
        "id": "naguVueSUiyn"
      },
      "outputs": [],
      "source": [
        "pred_clustered = t.fit_transform(preds[:k])"
      ]
    },
    {
      "cell_type": "code",
      "execution_count": null,
      "metadata": {
        "id": "O0UQRnXgUtBo"
      },
      "outputs": [],
      "source": [
        "sc = plt.scatter(pred_clustered[:, 0], pred_clustered[:, 1],c=labels[:k], cmap='Spectral')\n",
        "plt.colorbar()\n",
        "plt.show();"
      ]
    },
    {
      "cell_type": "code",
      "execution_count": null,
      "metadata": {
        "id": "I8XT0h4IUi-c"
      },
      "outputs": [],
      "source": [
        "for k, (l, i) in enumerate(instances.items()):\n",
        "    # print(k)\n",
        "    plt.subplot(4, 5, k+1)\n",
        "    show_im(i)"
      ]
    },
    {
      "cell_type": "markdown",
      "metadata": {
        "id": "yI_ANCfiaNFZ"
      },
      "source": [
        "### train arcane"
      ]
    },
    {
      "cell_type": "code",
      "execution_count": null,
      "metadata": {
        "id": "2RuDqb9cZL4x"
      },
      "outputs": [],
      "source": []
    },
    {
      "cell_type": "code",
      "execution_count": null,
      "metadata": {
        "id": "Tq_Ca-ARasQi"
      },
      "outputs": [],
      "source": [
        "block_names = []\n",
        "for i , m in modelResNet1.named_children():\n",
        "  block_names.append(i)\n",
        "\n",
        "\n",
        "loss_ = ArcFaceLoss(\n",
        "                num_classes=500,\n",
        "                embedding_size=512,\n",
        "                m=0.2,\n",
        "                scale=50.0\n",
        "            )"
      ]
    },
    {
      "cell_type": "code",
      "execution_count": null,
      "metadata": {
        "id": "YSHLiHukWx1d"
      },
      "outputs": [],
      "source": [
        "modelResNet1 = torch.load(\"/content/drive/MyDrive/ArcFace3.pth\")\n",
        "count_graded(modelResNet1)\n",
        "# evaluate(modelResNet1, test_loader)"
      ]
    },
    {
      "cell_type": "code",
      "execution_count": null,
      "metadata": {
        "id": "dyrAnDviaQcw"
      },
      "outputs": [],
      "source": [
        "opt11 = freeze_blocks(modelResNet1, num=5, blocks=block_names, lr=1e-4)\n",
        "count_graded(modelResNet1)"
      ]
    },
    {
      "cell_type": "code",
      "execution_count": null,
      "metadata": {
        "id": "ClPkNHTjW-gy"
      },
      "outputs": [],
      "source": [
        "hist_arc = train_arcane(model=modelResNet1, batch_size=30, train_loader=train_loader, val_loader=val_loader,\n",
        "              opt=opt11, criterion=loss_, epochs=5)"
      ]
    },
    {
      "cell_type": "code",
      "execution_count": null,
      "metadata": {
        "id": "3CEc5Un2clxd"
      },
      "outputs": [],
      "source": [
        "opt11 = freeze_blocks(modelResNet1, num=9, blocks=block_names, lr=1e-3)\n",
        "count_graded(modelResNet1)"
      ]
    },
    {
      "cell_type": "code",
      "execution_count": null,
      "metadata": {
        "id": "zT55Al16dgWi"
      },
      "outputs": [],
      "source": [
        "hist_arc = train_arcane(model=modelResNet1, batch_size=30, train_loader=train_loader, val_loader=val_loader,\n",
        "              opt=opt11, criterion=loss_, epochs=5)"
      ]
    },
    {
      "cell_type": "code",
      "execution_count": null,
      "metadata": {
        "id": "IdtzRSP2dk_i"
      },
      "outputs": [],
      "source": [
        "opt11 = freeze_blocks(modelResNet1, num=9, blocks=block_names, lr=1e-4)\n",
        "count_graded(modelResNet1)\n",
        "hist_arc = train_arcane(model=modelResNet1, batch_size=30, train_loader=train_loader, val_loader=val_loader,\n",
        "              opt=opt11, criterion=loss_, epochs=5)"
      ]
    },
    {
      "cell_type": "code",
      "execution_count": null,
      "metadata": {
        "id": "hWHN2swVghO2"
      },
      "outputs": [],
      "source": [
        "opt11 = freeze_blocks(modelResNet1, num=10, blocks=block_names, lr=1e-5)\n",
        "count_graded(modelResNet1)\n",
        "hist_arc = train_arcane(model=modelResNet1, batch_size=30, train_loader=train_loader, val_loader=val_loader,\n",
        "              opt=opt11, criterion=loss_, epochs=5)"
      ]
    },
    {
      "cell_type": "code",
      "execution_count": null,
      "metadata": {
        "id": "gmyVDNhmgoFi"
      },
      "outputs": [],
      "source": [
        "train_loader, val_loader, test_loader =\\\n",
        "update_loader(base_transform=res_transform(), pre_transform=[tt.RandomHorizontalFlip(p=0.5), tt.RandomPerspective(distortion_scale=0.2, p=0.3,)])"
      ]
    },
    {
      "cell_type": "code",
      "execution_count": null,
      "metadata": {
        "id": "0iYoCkfxitU3"
      },
      "outputs": [],
      "source": [
        "opt11 = freeze_blocks(modelResNet1, num=10, blocks=block_names, lr=1e-6)\n",
        "count_graded(modelResNet1)\n",
        "hist_arc = train_arcane(model=modelResNet1, batch_size=30, train_loader=train_loader, val_loader=val_loader,\n",
        "              opt=opt11, criterion=loss_, epochs=5)"
      ]
    },
    {
      "cell_type": "code",
      "execution_count": null,
      "metadata": {
        "id": "7sYOtuQgiu-F"
      },
      "outputs": [],
      "source": [
        "torch.save(modelResNet1, './drive/MyDrive/ArcFace2.pth')"
      ]
    },
    {
      "cell_type": "code",
      "execution_count": null,
      "metadata": {
        "id": "NYztH75HkeJg"
      },
      "outputs": [],
      "source": [
        "opt11 = freeze_blocks(modelResNet1, num=10, blocks=block_names, lr=1e-4)\n",
        "count_graded(modelResNet1)\n",
        "hist_arc = train_arcane(model=modelResNet1, batch_size=30, train_loader=train_loader, val_loader=val_loader,\n",
        "              opt=opt11, criterion=loss_, epochs=5)"
      ]
    },
    {
      "cell_type": "code",
      "execution_count": null,
      "metadata": {
        "id": "7uuUPyWloUzT"
      },
      "outputs": [],
      "source": [
        "train_loader, val_loader, test_loader =\\\n",
        "update_loader(base_transform=res_transform(), pre_transform=[tt.RandomHorizontalFlip(p=0.5),])"
      ]
    },
    {
      "cell_type": "code",
      "execution_count": null,
      "metadata": {
        "id": "9UXkCdWuoUro"
      },
      "outputs": [],
      "source": [
        "opt11 = freeze_blocks(modelResNet1, num=10, blocks=block_names, lr=1e-4)\n",
        "count_graded(modelResNet1)\n",
        "hist_arc = train_arcane(model=modelResNet1, batch_size=30, train_loader=train_loader, val_loader=val_loader,\n",
        "              opt=opt11, criterion=loss_, epochs=5)"
      ]
    },
    {
      "cell_type": "code",
      "execution_count": null,
      "metadata": {
        "id": "TXD_t13Yoea7"
      },
      "outputs": [],
      "source": [
        "opt11 = freeze_blocks(modelResNet1, num=10, blocks=block_names, lr=1e-3)\n",
        "count_graded(modelResNet1)\n",
        "hist_arc = train_arcane(model=modelResNet1, batch_size=30, train_loader=train_loader, val_loader=val_loader,\n",
        "              opt=opt11, criterion=loss_, epochs=5)"
      ]
    },
    {
      "cell_type": "code",
      "execution_count": null,
      "metadata": {
        "id": "98AIYxIMqBy1"
      },
      "outputs": [],
      "source": [
        "torch.save(modelResNet1, './drive/MyDrive/ArcFace3.pth')"
      ]
    },
    {
      "cell_type": "code",
      "execution_count": null,
      "metadata": {
        "id": "TYRSBXoGrYXA"
      },
      "outputs": [],
      "source": [
        "loss_ = ArcFaceLoss(\n",
        "                num_classes=500,\n",
        "                embedding_size=512,\n",
        "                m=0.02,\n",
        "                scale=30.0\n",
        "            ).to(DEVICE)"
      ]
    },
    {
      "cell_type": "code",
      "execution_count": null,
      "metadata": {
        "id": "6ZH8FZfZrk8o"
      },
      "outputs": [],
      "source": []
    },
    {
      "cell_type": "code",
      "execution_count": null,
      "metadata": {
        "id": "ZSA_ASwwriAh"
      },
      "outputs": [],
      "source": [
        "opt11 = freeze_blocks(modelResNet1, num=10, blocks=block_names, lr=1e-3)\n",
        "count_graded(modelResNet1)\n",
        "hist_arc = train_arcane(model=modelResNet1, batch_size=30, train_loader=train_loader, val_loader=val_loader,\n",
        "              opt=opt11, criterion=loss_, epochs=5)"
      ]
    },
    {
      "cell_type": "code",
      "execution_count": null,
      "metadata": {
        "id": "3kbaYEKErOmx"
      },
      "outputs": [],
      "source": [
        "opt11 = freeze_blocks(modelResNet1, num=10, blocks=block_names, lr=1e-4)\n",
        "count_graded(modelResNet1)\n",
        "hist_arc = train_arcane(model=modelResNet1, batch_size=30, train_loader=train_loader, val_loader=val_loader,\n",
        "              opt=opt11, criterion=loss_, epochs=5)"
      ]
    },
    {
      "cell_type": "code",
      "execution_count": null,
      "metadata": {
        "id": "Q5XjgiGQrOzP"
      },
      "outputs": [],
      "source": []
    },
    {
      "cell_type": "code",
      "execution_count": null,
      "metadata": {
        "id": "OnaeM8_XrO8f"
      },
      "outputs": [],
      "source": []
    },
    {
      "cell_type": "code",
      "execution_count": null,
      "metadata": {
        "id": "dhP06nYqoUf-"
      },
      "outputs": [],
      "source": []
    },
    {
      "cell_type": "code",
      "execution_count": null,
      "metadata": {
        "id": "ypKeqgd9QvAG"
      },
      "outputs": [],
      "source": [
        "# train_transform = tt.Compose([\n",
        "#     resTransform(),\n",
        "#     tt.RandomHorizontalFlip(p=0.5),\n",
        "# ])\n",
        "\n",
        "train_transform = tt.Compose([\n",
        "    # EfficientNet_B3_Weights.IMAGENET1K_V1.transforms(),\n",
        "    res_transform(),\n",
        "    tt.RandomHorizontalFlip(p=0.5),\n",
        "    tt.RandomPerspective(distortion_scale=0.2, p=0.3,)\n",
        "])\n",
        "test_transform = res_transform()"
      ]
    },
    {
      "cell_type": "code",
      "execution_count": null,
      "metadata": {
        "id": "h_hZhDBBQvAG"
      },
      "outputs": [],
      "source": [
        "train_transform = tt.Compose([\n",
        "    # EfficientNet_B3_Weights.IMAGENET1K_V1.transforms(),\n",
        "    res_transform(),\n",
        "    tt.RandomHorizontalFlip(p=0.5),\n",
        "    tt.RandomPerspective(distortion_scale=0.2, p=0.3,)\n",
        "])\n",
        "test_transform = res_transform()\n",
        "\n",
        "train_dataset = FaceDataset(train_data, mode='train', transform=train_transform)\n",
        "val_dataset = FaceDataset(val_data, mode='val', transform=test_transform)\n",
        "test_dataset = FaceDataset(test_data, mode='test', transform=test_transform)\n",
        "\n",
        "train_loader = DataLoader(train_dataset, batch_size=BATCH_SIZE, shuffle=True)\n",
        "val_loader = DataLoader(val_dataset, batch_size=BATCH_SIZE, shuffle=True)\n",
        "test_loader = DataLoader(test_dataset, batch_size=BATCH_SIZE, shuffle=True)\n",
        "len(train_data), len(val_data), len(test_data)\n"
      ]
    },
    {
      "cell_type": "code",
      "execution_count": null,
      "metadata": {
        "id": "mPorN8tzfCsu"
      },
      "outputs": [],
      "source": []
    },
    {
      "cell_type": "code",
      "execution_count": null,
      "metadata": {
        "id": "EjfXKyXjcmOK"
      },
      "outputs": [],
      "source": []
    },
    {
      "cell_type": "code",
      "execution_count": null,
      "metadata": {
        "id": "IJz8TRVdcmbB"
      },
      "outputs": [],
      "source": []
    },
    {
      "cell_type": "code",
      "execution_count": null,
      "metadata": {
        "id": "YE4KwqyJcmkh"
      },
      "outputs": [],
      "source": []
    },
    {
      "cell_type": "code",
      "execution_count": null,
      "metadata": {
        "id": "1b8q807ZcmsP"
      },
      "outputs": [],
      "source": []
    },
    {
      "cell_type": "code",
      "execution_count": null,
      "metadata": {
        "id": "LHECfyjOZLzm"
      },
      "outputs": [],
      "source": [
        "hist_arc = train_arcane(model=modelResNet1, batch_size=30, train_loader=train_loader, val_loader=val_loader,\n",
        "              opt=opt11, criterion=loss_, epochs=10)"
      ]
    },
    {
      "cell_type": "code",
      "execution_count": null,
      "metadata": {
        "id": "0GT1dbZNJWtk"
      },
      "outputs": [],
      "source": [
        "opt11 = freeze_blocks(modelResNet1, num=5, blocks=block_names, lr=1e-4)\n",
        "hist_arc = train_arcane(model=modelResNet1, batch_size=30, train_loader=train_loader, val_loader=val_loader,\n",
        "              opt=opt11, criterion=loss_, epochs=10)"
      ]
    },
    {
      "cell_type": "code",
      "execution_count": null,
      "metadata": {
        "id": "8ev29XgENT-8"
      },
      "outputs": [],
      "source": [
        "opt11 = freeze_blocks(modelResNet1, num=5, blocks=block_names, lr=1e-3)\n",
        "hist_arc = train_arcane(model=modelResNet1, batch_size=30, train_loader=train_loader, val_loader=val_loader,\n",
        "              opt=opt11, criterion=loss_, epochs=5)"
      ]
    },
    {
      "cell_type": "code",
      "execution_count": null,
      "metadata": {
        "id": "Xa_x103MNWbO"
      },
      "outputs": [],
      "source": [
        "opt11 = freeze_blocks(modelResNet1, num=5, blocks=block_names, lr=1e-5)\n",
        "hist_arc = train_arcane(model=modelResNet1, batch_size=30, train_loader=train_loader, val_loader=val_loader,\n",
        "              opt=opt11, criterion=loss_, epochs=10)"
      ]
    },
    {
      "cell_type": "code",
      "execution_count": null,
      "metadata": {
        "id": "MohlO7NgRj9e"
      },
      "outputs": [],
      "source": [
        "torch.save(modelResNet1, './drive/MyDrive/ArcFace1.pth')"
      ]
    },
    {
      "cell_type": "code",
      "execution_count": null,
      "metadata": {
        "id": "nj3lj0geQtcl"
      },
      "outputs": [],
      "source": [
        "opt11 = freeze_blocks(modelResNet1, num=8, blocks=block_names, lr=1e-5)\n",
        "count_graded(modelResNet1)\n",
        "# hist_arc = train_arcane(model=modelResNet1, batch_size=30, train_loader=train_loader, val_loader=val_loader,\n",
        "#               opt=opt11, criterion=loss_, epochs=10)"
      ]
    },
    {
      "cell_type": "code",
      "execution_count": null,
      "metadata": {
        "id": "du9pqvbzQtmm"
      },
      "outputs": [],
      "source": [
        "hist_arc = train_arcane(model=modelResNet1, batch_size=30, train_loader=train_loader, val_loader=val_loader,\n",
        "              opt=opt11, criterion=loss_, epochs=10)"
      ]
    },
    {
      "cell_type": "code",
      "execution_count": null,
      "metadata": {
        "id": "vn0jfKmIXrUf"
      },
      "outputs": [],
      "source": []
    },
    {
      "cell_type": "code",
      "execution_count": null,
      "metadata": {
        "id": "AL8EiC6iQtu4"
      },
      "outputs": [],
      "source": []
    },
    {
      "cell_type": "code",
      "execution_count": null,
      "metadata": {
        "id": "WoQ7L9ymQt2r"
      },
      "outputs": [],
      "source": []
    },
    {
      "cell_type": "code",
      "execution_count": null,
      "metadata": {
        "id": "JYXqrVwIZMju"
      },
      "outputs": [],
      "source": [
        "for i in train_loader:\n",
        "  print(f\"{i=}\")\n",
        "  break"
      ]
    },
    {
      "cell_type": "code",
      "execution_count": null,
      "metadata": {
        "id": "DwyS8hDWYQrm"
      },
      "outputs": [],
      "source": [
        "labels = torch.randint(5, size=(32,))\n",
        "labels"
      ]
    },
    {
      "cell_type": "code",
      "execution_count": null,
      "metadata": {
        "id": "W8UvDAzPGukG"
      },
      "outputs": [],
      "source": [
        "print(f\"{inp.shape=}\")\n",
        "# logits = ArcFaceLossFC(in_=512, out_=5)(inp)\n",
        "# probs = ArcFaceLossSoftMax(m=0., s=1)(logits)\n",
        "losss = ArcFaceLossEntropy(3)"
      ]
    },
    {
      "cell_type": "code",
      "execution_count": null,
      "metadata": {
        "id": "l_j0F5o-bpYQ"
      },
      "outputs": [],
      "source": [
        "probs = torch.FloatTensor([[1, 0, 0], [0, 1, 0]])\n",
        "probs2 = torch.FloatTensor([[0.5, 0.5, 0], [0, 1, 0]])\n",
        "\n",
        "labels = torch.LongTensor([0, 1, 0, 2])"
      ]
    },
    {
      "cell_type": "code",
      "execution_count": null,
      "metadata": {
        "id": "Lttz1LVAbpj1"
      },
      "outputs": [],
      "source": [
        "print(losss(probs, labels))\n",
        "print(losss(probs2, labels))"
      ]
    },
    {
      "cell_type": "code",
      "execution_count": null,
      "metadata": {
        "id": "YwQt4cGkYQaP"
      },
      "outputs": [],
      "source": [
        "probs"
      ]
    },
    {
      "cell_type": "code",
      "execution_count": null,
      "metadata": {
        "id": "XGUWyfH7YQys"
      },
      "outputs": [],
      "source": [
        "oh = F.one_hot(labels)\n",
        "oh"
      ]
    },
    {
      "cell_type": "code",
      "execution_count": null,
      "metadata": {
        "id": "uDw-1-2wYQ5K"
      },
      "outputs": [],
      "source": [
        "oh*probs"
      ]
    },
    {
      "cell_type": "code",
      "execution_count": null,
      "metadata": {
        "id": "QjSO4U5PGum4"
      },
      "outputs": [],
      "source": [
        "inp.shape, logits.shape"
      ]
    },
    {
      "cell_type": "code",
      "execution_count": null,
      "metadata": {
        "id": "9ohk4yJmGupk"
      },
      "outputs": [],
      "source": [
        "probs.sum(dim=1)"
      ]
    },
    {
      "cell_type": "code",
      "execution_count": null,
      "metadata": {
        "id": "qZAOl3aMGusl"
      },
      "outputs": [],
      "source": []
    },
    {
      "cell_type": "code",
      "execution_count": null,
      "metadata": {
        "id": "Kk4MSf41GuvM"
      },
      "outputs": [],
      "source": [
        "A = torch.Tensor([[1, 2, 3, 10], [4, 5, 6, 20], [7, 8, 9, 100]])\n",
        "print(A.shape)\n",
        "sA = A.sum(dim=1)\n",
        "print(sA)\n",
        "iiii = sA[:, None]-A\n",
        "print(iiii)\n",
        "print(iiii.shape)"
      ]
    },
    {
      "cell_type": "code",
      "execution_count": null,
      "metadata": {
        "id": "99EV-6dxGux8"
      },
      "outputs": [],
      "source": []
    },
    {
      "cell_type": "code",
      "execution_count": null,
      "metadata": {
        "id": "rIr7w3NGGu0r"
      },
      "outputs": [],
      "source": []
    },
    {
      "cell_type": "code",
      "execution_count": null,
      "metadata": {
        "id": "CvyVgW6gGu3u"
      },
      "outputs": [],
      "source": []
    },
    {
      "cell_type": "code",
      "execution_count": null,
      "metadata": {
        "id": "pvifiXgpi7YS"
      },
      "outputs": [],
      "source": [
        "inst = test_dataset[-7]\n",
        "same = 0\n",
        "other = 0\n",
        "for i in train_dataset:\n",
        "    if i[1] == inst[1]:\n",
        "        same = i\n",
        "        break\n",
        "    else:\n",
        "        other = i\n",
        "k = 1\n",
        "for i, l in (same, inst, other):\n",
        "    print(l)\n",
        "    plt.subplot(1, 3, k)\n",
        "    k += 1\n",
        "    show_im(i)\n",
        "# show_im(same[0])"
      ]
    },
    {
      "cell_type": "code",
      "execution_count": null,
      "metadata": {
        "id": "GNH8kQJmi7cq"
      },
      "outputs": [],
      "source": [
        "inst_pred = torch.sigmoid(modelResNet(inst[0].unsqueeze(0).to(DEVICE)).detach().to('cpu').squeeze()).numpy()\n",
        "same_pred = torch.sigmoid(modelResNet(same[0].unsqueeze(0).to(DEVICE)).detach().to('cpu').squeeze()).numpy()\n",
        "other_pred = torch.sigmoid(modelResNet(other[0].unsqueeze(0).to(DEVICE)).detach().to('cpu').squeeze()).numpy()"
      ]
    },
    {
      "cell_type": "code",
      "execution_count": null,
      "metadata": {
        "id": "NwYAJrwzExAW"
      },
      "outputs": [],
      "source": [
        "k = 0\n",
        "for i in (inst_pred, same_pred, other_pred):\n",
        "    k += 1\n",
        "    plt.subplot(3, 1, k)\n",
        "    print(i.argmax())\n",
        "    plt.scatter(np.linspace(0, 499, 500), i)"
      ]
    },
    {
      "cell_type": "code",
      "execution_count": null,
      "metadata": {
        "id": "gXdFwQ1fHJ84"
      },
      "outputs": [],
      "source": [
        "evaluate(modelResNet, train_loader)"
      ]
    },
    {
      "cell_type": "code",
      "execution_count": null,
      "metadata": {
        "id": "GZNQtF7XHJ4e"
      },
      "outputs": [],
      "source": [
        "for name, module in modelResNet.named_children():\n",
        "    for param in module.parameters():\n",
        "        param.requires_grad = True\n",
        "    print(name)\n",
        "print()\n",
        "count_graded(modelResNet)"
      ]
    },
    {
      "cell_type": "code",
      "execution_count": null,
      "metadata": {
        "id": "dTJt-J97HJ0I"
      },
      "outputs": [],
      "source": [
        "num = (len(list(modelResNet.fc.parameters())))\n",
        "opt = torch.optim.Adam(\n",
        "        params=[\n",
        "            {\"params\": modelResNet.fc.parameters(), 'lr': 1e-4},\n",
        "            {\"params\": list(modelResNet.parameters())[:-num], \"lr\": 1e-5,}\n",
        "        ])\n",
        "\n",
        "hist_full = train(train_loader, val_loader, modelResNet, epochs=10, batch_size=32, opt=opt)"
      ]
    },
    {
      "cell_type": "code",
      "execution_count": null,
      "metadata": {
        "id": "LJ4n8VwyHJvw"
      },
      "outputs": [],
      "source": [
        "hist_full2 = train(train_loader, val_loader, modelResNet, epochs=10, batch_size=32, opt=opt)"
      ]
    },
    {
      "cell_type": "code",
      "execution_count": null,
      "metadata": {
        "id": "5hzR_KAgHJrt"
      },
      "outputs": [],
      "source": [
        "evaluate(modelResNet, test_loader)"
      ]
    },
    {
      "cell_type": "code",
      "execution_count": null,
      "metadata": {
        "id": "lIjRaLmrHJnY"
      },
      "outputs": [],
      "source": [
        "torch.save(modelResNet, \"firstresnet\")"
      ]
    },
    {
      "cell_type": "code",
      "execution_count": null,
      "metadata": {
        "id": "xHhd4aTmHJi-"
      },
      "outputs": [],
      "source": []
    },
    {
      "cell_type": "code",
      "execution_count": null,
      "metadata": {
        "id": "7JEvgRekHJen"
      },
      "outputs": [],
      "source": []
    },
    {
      "cell_type": "code",
      "execution_count": null,
      "metadata": {
        "id": "Mxa0NXZw_ryD"
      },
      "outputs": [],
      "source": [
        "from torchvision.models import efficientnet_b3, EfficientNet_B3_Weights\n",
        "from torchvision.models._api import WeightsEnum\n",
        "from torch.hub import load_state_dict_from_url\n",
        "\n",
        "def get_state_dict(self, *args, **kwargs):\n",
        "    kwargs.pop(\"check_hash\")\n",
        "    return load_state_dict_from_url(self.url, *args, **kwargs)\n",
        "WeightsEnum.get_state_dict = get_state_dict\n",
        "\n",
        "# efficientnet_b3(weights=EfficientNet_B3_Weights.DEFAULT)\n",
        "model = efficientnet_b3(weights=\"DEFAULT\")"
      ]
    },
    {
      "cell_type": "code",
      "execution_count": null,
      "metadata": {
        "id": "zfUWvWxq_sY_"
      },
      "outputs": [],
      "source": [
        "freeze_layers(model, 10);"
      ]
    },
    {
      "cell_type": "code",
      "execution_count": null,
      "metadata": {
        "id": "AVmpnOe5_scI"
      },
      "outputs": [],
      "source": []
    },
    {
      "cell_type": "code",
      "execution_count": null,
      "metadata": {
        "id": "gqiSRuMv_se9"
      },
      "outputs": [],
      "source": []
    },
    {
      "cell_type": "code",
      "execution_count": null,
      "metadata": {
        "id": "7JFi8EoT4pYJ"
      },
      "outputs": [],
      "source": [
        "print(count_graded(modelResNet))\n",
        "# print(freeze_layers(modelResNet, 10))\n",
        "# print(count_graded(modelResNet))\n"
      ]
    },
    {
      "cell_type": "code",
      "execution_count": null,
      "metadata": {
        "id": "3e95dhMj7H1U"
      },
      "outputs": [],
      "source": [
        "!pip3 install torch torchvision torchaudio --index-url https://download.pytorch.org/whl/cu121"
      ]
    },
    {
      "cell_type": "code",
      "execution_count": null,
      "metadata": {
        "id": "OByaHgwV56zI"
      },
      "outputs": [],
      "source": [
        "effnet = models.efficientnet_b3(weights='DEFAULT')"
      ]
    },
    {
      "cell_type": "code",
      "execution_count": null,
      "metadata": {
        "id": "c1ol01xN4pS1"
      },
      "outputs": [],
      "source": [
        "efficientnet = torch.hub.load('NVIDIA/DeepLearningExamples:torchhub', 'nvidia_efficientnet_b0', pretrained=True)"
      ]
    },
    {
      "cell_type": "code",
      "execution_count": null,
      "metadata": {
        "id": "obwfMz0Q4pM9"
      },
      "outputs": [],
      "source": [
        "for i, k in efficientnet.named_children():\n",
        "    print(i)"
      ]
    },
    {
      "cell_type": "code",
      "execution_count": null,
      "metadata": {
        "id": "i6cy680a4pGX"
      },
      "outputs": [],
      "source": []
    },
    {
      "cell_type": "code",
      "execution_count": null,
      "metadata": {
        "id": "ubD8nxEM4pB_"
      },
      "outputs": [],
      "source": [
        "efficientnet"
      ]
    },
    {
      "cell_type": "code",
      "execution_count": null,
      "metadata": {
        "id": "jfmCACjo4oBL"
      },
      "outputs": [],
      "source": []
    },
    {
      "cell_type": "code",
      "execution_count": null,
      "metadata": {
        "id": "06HQRZMvEZEm"
      },
      "outputs": [],
      "source": [
        "def train_w_freezed(model, train_datasset=train_dataset, val_dataset=val_dataset, unfreezed_nm=1, lr_classifier=1e-4, lr_feature=1e-4, epochs=5, batch_size=64):\n",
        "  train_w_freezed.called_times += 1\n",
        "  model, optimizer = freeze_layers(model, numm = unfreezed_nm, lr1=lr_classifier, lr2=lr_feature)\n",
        "  history = train(train_dataset, val_dataset, model=model, epochs=epochs, batch_size=batch_size, opt=optimizer)\n",
        "  torch.save(model, f'/content/gdrive/MyDrive/efn{train_w_freezed.called_times}.pth')\n",
        "  return history\n",
        "\n",
        "train_w_freezed.called_times = 0\n"
      ]
    },
    {
      "cell_type": "code",
      "execution_count": null,
      "metadata": {
        "id": "smrszRFuEcjh"
      },
      "outputs": [],
      "source": [
        "hist = train_w_freezed(modelResNet, epochs=2 )"
      ]
    }
  ],
  "metadata": {
    "accelerator": "GPU",
    "colab": {
      "toc_visible": true,
      "provenance": [],
      "gpuType": "T4"
    },
    "kernelspec": {
      "display_name": "Python 3",
      "name": "python3"
    },
    "language_info": {
      "name": "python"
    }
  },
  "nbformat": 4,
  "nbformat_minor": 0
}